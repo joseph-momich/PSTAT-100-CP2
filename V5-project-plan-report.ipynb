{
 "cells": [
  {
   "cell_type": "code",
   "execution_count": 21,
   "metadata": {},
   "outputs": [],
   "source": [
    "# libraries\n",
    "import numpy as np\n",
    "import pandas as pd\n",
    "import altair as alt\n",
    "alt.renderers.enable('default')\n",
    "# warnings\n",
    "import warnings\n",
    "warnings.simplefilter(action='ignore', category=FutureWarning)\n",
    "# display settings\n",
    "pd.options.display.max_columns = None"
   ]
  },
  {
   "attachments": {},
   "cell_type": "markdown",
   "metadata": {},
   "source": [
    "# PSTAT 100 Project plan"
   ]
  },
  {
   "attachments": {},
   "cell_type": "markdown",
   "metadata": {},
   "source": [
    "\n",
    "**Group members**: Kabir Snell, Ryan Sevilla, Jaime Gomez, Joseph Momich\n",
    "\n",
    "**Contributions**:\n",
    "1. Kabir Snell: Found the data set, wrote the background, and came up with questions for future work\n",
    "2. Ryan Sevilla: Worked on variable summaries and explanatory plots\n",
    "3. Jaime Gomez: Worked on final completion of report and ensured guidelines were met\n",
    "4. Joseph Momich: Helped tidy the data, provided data description and aided in intial explorations"
   ]
  },
  {
   "cell_type": "markdown",
   "metadata": {},
   "source": [
    "---\n",
    "## 0. Background\n",
    "\n",
    "California has a well-developed public transportation system that includes buses, trains, light rail, and subways. The state's largest public transportation agency is the Los Angeles County Metropolitan Transportation Authority (Metro), which serves the Los Angeles metropolitan area with an extensive network of bus and rail lines. Other major public transportation agencies in California include the San Francisco Municipal Transportation Agency (SFMTA) and the San Diego Metropolitan Transit System (MTS). In addition to these larger agencies, many smaller cities and towns throughout California have their own public transportation systems, which may include buses, shuttles, or other types of services. These systems often provide connections to regional or statewide transportation networks, making it possible for people to travel throughout the state using public transportation. While many areas have well-established public transportation systems, there may be gaps or limitations in service in some parts of the state, particularly in more rural or remote areas.\n",
    "\n",
    "The Walkable Distance to Public Transit dataset, available on data.ca.gov, provides information on the number of households in California that are within a certain distance of public transit stops. The data is based on estimates of walking distance from households to the nearest transit stop, as well as information on the types of transit services available at each stop. \n",
    "\n",
    "The dataset is organized by county, and includes information on the number and percentage of households within various walking distance ranges of transit stops. For example, the data might indicate how many households are within a 5-minute walk of a transit stop, as well as how many households are within a 10-minute or 15-minute walk.\n",
    "\n",
    "The dataset also provides information on the types of transit services available at each stop, including whether the stop serves buses, trains, or other modes of transportation. This information can be useful for understanding the accessibility of public transportation in different areas of the state, and for identifying opportunities to improve transit service or expand transit infrastructure.\n",
    "\n",
    "Overall, the Walkable Distance to Public Transit dataset is a valuable resource for policymakers, transportation planners, and researchers who are interested in understanding the availability and accessibility of public transportation in California."
   ]
  },
  {
   "cell_type": "markdown",
   "metadata": {},
   "source": [
    "---\n",
    "## 1. Data description"
   ]
  },
  {
   "cell_type": "markdown",
   "metadata": {},
   "source": [
    "### Basic Information"
   ]
  },
  {
   "cell_type": "markdown",
   "metadata": {},
   "source": [
    "The data is the percent of the population that resides within 1/2 mile of a major transit location (bus/rail/ferry stop) in four California regions, and whose waiting time is less than 15 minutes during peak commute hours. The data is stratified by 8 race/ethnicity groups and includes both geographic information and statistical reliability measurements.\n",
    "\n",
    "The data was collected by the California Department of Public Health, as part of the \"Health Communities Data and Indicators Project (HCI). The goal of the project was to evaluate how city plans and policies affect community health. The data includes 2012 Transit Stops from the San Diego and Southern California Association of Governments, as well as the Metropolitan Transportation Commission. It also includes 2008 Transit Stops from the Sacramento Council of Government and 2010 block-level population data from the U.S. Census Bureau. The data is updated decennially. The four California regions are defined as the following:\n",
    "* Southern California (SCAG): Imperial, Los Angeles, Orange, Riverside, San Bernardino, and Ventura \n",
    "* Sacramento (SACOG): Placer, Sacramento, and Yolo \n",
    "* Bay Area (MTC): Contra Costa, Marin, Napa, San Francisco, San Mateo, Santa Clara, Solano, Sonoma \n",
    "* San Diego County\n",
    "\n",
    "Data values were obtained using automated methods to download information from various public websites. One important data set was from the 2010-2012 California Household Travel Survey. Multiple data collection methods were used in this survey, including computer-assisted telephone interviews and online/mail surveys. To identify census blocks inside 1/2 mile of the transit stops, geospatial software was used. In order to compile the data into one data set, the census blocks from the 2010 U.S. Census were merged with the blocks from the transit data, and population counts were aggregated by census tract, cities/towns, county, and region. The data was processed into Excel files with standard formats. \n",
    "\n",
    "The population is adults aged 18 years and over, who reside in the four California regions. The sampling frame includes adults in these four regions, with access to telephone or mail services. The sampling mechanism for the respective year (2008 or 2012) is a probability sample because the surveys downloaded by the HCI project were sent to randomly selected adults However, the scope of inference has limitations. The data is from the year 2012 for the SCAG, MTC, and San Diego regions; while, 2008 for the SACOG region. Some transit stops and services may have changed during that time period. As well, the population data was collected from the 2010 U.S. Census, which is a different time period than the transit data (2008, 2012). Therefore, some variation may exist if demographics changed."
   ]
  },
  {
   "cell_type": "markdown",
   "metadata": {},
   "source": [
    "### Data semantics and structure\n",
    "\n",
    "Name | Variable description | Type | Units of measurement\n",
    "---|---|---|---\n",
    "year | year when data was reported | Numeric | Calendar year \n",
    "race_eth_name | name of the different races/ethnicties ('AfricanAm', 'AIAN', 'Asian', 'Latino', 'Multiple', 'NHOPI', 'Other', 'Total', 'White')| Object | Name\n",
    "geotype | describes the level of geography for data in that row ('RE'=region, 'CT'=census tract, 'PL'=place/town/city, 'CO'=county)  | Object | Name\n",
    "geoname | name of the city/town | Object | Name \n",
    "county_name | name of the county | Object | Name\n",
    "region_name | name of the region ('Sacramento Area', 'Bay Area', 'San Diego', 'Southern California') | Object | Name\n",
    "pop_trans_acc | number of residents that live within 1/2 mile of public transportation | Numeric | Integer\n",
    "pop2010 | total number of residents that reside in that county | Numeric | Integer\n",
    "p_trans_acc | the percent of residents that live within 1/2 mile of public transportation | Numeric | Float\n",
    "LL_95CI | lower limit of the 95th confidence interval for p_trans_acc | Numeric | Float\n",
    "UL_95CI | upper limit of the 95th confidence interval for p_trans_acc | Numeric| Float\n",
    "se | standard errror | Numeric| Float\n",
    "rse | relative standard error | Numeric| Float"
   ]
  },
  {
   "cell_type": "markdown",
   "metadata": {},
   "source": [
    "### Data Overview"
   ]
  },
  {
   "cell_type": "code",
   "execution_count": 22,
   "metadata": {},
   "outputs": [
    {
     "data": {
      "text/html": [
       "<div>\n",
       "<style scoped>\n",
       "    .dataframe tbody tr th:only-of-type {\n",
       "        vertical-align: middle;\n",
       "    }\n",
       "\n",
       "    .dataframe tbody tr th {\n",
       "        vertical-align: top;\n",
       "    }\n",
       "\n",
       "    .dataframe thead th {\n",
       "        text-align: right;\n",
       "    }\n",
       "</style>\n",
       "<table border=\"1\" class=\"dataframe\">\n",
       "  <thead>\n",
       "    <tr style=\"text-align: right;\">\n",
       "      <th></th>\n",
       "      <th>year</th>\n",
       "      <th>race_eth_code</th>\n",
       "      <th>race_eth_name</th>\n",
       "      <th>geotype</th>\n",
       "      <th>geotypevalue</th>\n",
       "      <th>geoname</th>\n",
       "      <th>county_name</th>\n",
       "      <th>county_fips</th>\n",
       "      <th>region_name</th>\n",
       "      <th>region_code</th>\n",
       "      <th>pop_trans_acc</th>\n",
       "      <th>pop2010</th>\n",
       "      <th>p_trans_acc</th>\n",
       "      <th>LL_95CI</th>\n",
       "      <th>UL_95CI</th>\n",
       "      <th>se</th>\n",
       "      <th>rse</th>\n",
       "    </tr>\n",
       "  </thead>\n",
       "  <tbody>\n",
       "    <tr>\n",
       "      <th>0</th>\n",
       "      <td>2008</td>\n",
       "      <td>3</td>\n",
       "      <td>AfricanAm</td>\n",
       "      <td>CO</td>\n",
       "      <td>6061</td>\n",
       "      <td>Placer</td>\n",
       "      <td>Placer</td>\n",
       "      <td>6061</td>\n",
       "      <td>Sacramento Area</td>\n",
       "      <td>8</td>\n",
       "      <td>55</td>\n",
       "      <td>4427</td>\n",
       "      <td>0.012424</td>\n",
       "      <td>0.009161</td>\n",
       "      <td>0.015687</td>\n",
       "      <td>0.001665</td>\n",
       "      <td>13.399974</td>\n",
       "    </tr>\n",
       "    <tr>\n",
       "      <th>1</th>\n",
       "      <td>2008</td>\n",
       "      <td>1</td>\n",
       "      <td>AIAN</td>\n",
       "      <td>CO</td>\n",
       "      <td>6061</td>\n",
       "      <td>Placer</td>\n",
       "      <td>Placer</td>\n",
       "      <td>6061</td>\n",
       "      <td>Sacramento Area</td>\n",
       "      <td>8</td>\n",
       "      <td>51</td>\n",
       "      <td>2080</td>\n",
       "      <td>0.024519</td>\n",
       "      <td>0.017873</td>\n",
       "      <td>0.031166</td>\n",
       "      <td>0.003391</td>\n",
       "      <td>13.830066</td>\n",
       "    </tr>\n",
       "    <tr>\n",
       "      <th>2</th>\n",
       "      <td>2008</td>\n",
       "      <td>2</td>\n",
       "      <td>Asian</td>\n",
       "      <td>CO</td>\n",
       "      <td>6061</td>\n",
       "      <td>Placer</td>\n",
       "      <td>Placer</td>\n",
       "      <td>6061</td>\n",
       "      <td>Sacramento Area</td>\n",
       "      <td>8</td>\n",
       "      <td>117</td>\n",
       "      <td>19963</td>\n",
       "      <td>0.005861</td>\n",
       "      <td>0.004802</td>\n",
       "      <td>0.006920</td>\n",
       "      <td>0.000540</td>\n",
       "      <td>9.217872</td>\n",
       "    </tr>\n",
       "    <tr>\n",
       "      <th>3</th>\n",
       "      <td>2008</td>\n",
       "      <td>4</td>\n",
       "      <td>Latino</td>\n",
       "      <td>CO</td>\n",
       "      <td>6061</td>\n",
       "      <td>Placer</td>\n",
       "      <td>Placer</td>\n",
       "      <td>6061</td>\n",
       "      <td>Sacramento Area</td>\n",
       "      <td>8</td>\n",
       "      <td>1835</td>\n",
       "      <td>44710</td>\n",
       "      <td>0.041042</td>\n",
       "      <td>0.039203</td>\n",
       "      <td>0.042881</td>\n",
       "      <td>0.000938</td>\n",
       "      <td>2.286029</td>\n",
       "    </tr>\n",
       "    <tr>\n",
       "      <th>4</th>\n",
       "      <td>2008</td>\n",
       "      <td>7</td>\n",
       "      <td>Multiple</td>\n",
       "      <td>CO</td>\n",
       "      <td>6061</td>\n",
       "      <td>Placer</td>\n",
       "      <td>Placer</td>\n",
       "      <td>6061</td>\n",
       "      <td>Sacramento Area</td>\n",
       "      <td>8</td>\n",
       "      <td>241</td>\n",
       "      <td>10658</td>\n",
       "      <td>0.022612</td>\n",
       "      <td>0.019790</td>\n",
       "      <td>0.025435</td>\n",
       "      <td>0.001440</td>\n",
       "      <td>6.368321</td>\n",
       "    </tr>\n",
       "  </tbody>\n",
       "</table>\n",
       "</div>"
      ],
      "text/plain": [
       "   year  race_eth_code race_eth_name geotype  geotypevalue geoname  \\\n",
       "0  2008              3     AfricanAm      CO          6061  Placer   \n",
       "1  2008              1          AIAN      CO          6061  Placer   \n",
       "2  2008              2         Asian      CO          6061  Placer   \n",
       "3  2008              4        Latino      CO          6061  Placer   \n",
       "4  2008              7      Multiple      CO          6061  Placer   \n",
       "\n",
       "  county_name  county_fips      region_name  region_code  pop_trans_acc  \\\n",
       "0      Placer         6061  Sacramento Area            8             55   \n",
       "1      Placer         6061  Sacramento Area            8             51   \n",
       "2      Placer         6061  Sacramento Area            8            117   \n",
       "3      Placer         6061  Sacramento Area            8           1835   \n",
       "4      Placer         6061  Sacramento Area            8            241   \n",
       "\n",
       "   pop2010  p_trans_acc   LL_95CI   UL_95CI        se        rse  \n",
       "0     4427     0.012424  0.009161  0.015687  0.001665  13.399974  \n",
       "1     2080     0.024519  0.017873  0.031166  0.003391  13.830066  \n",
       "2    19963     0.005861  0.004802  0.006920  0.000540   9.217872  \n",
       "3    44710     0.041042  0.039203  0.042881  0.000938   2.286029  \n",
       "4    10658     0.022612  0.019790  0.025435  0.001440   6.368321  "
      ]
     },
     "execution_count": 22,
     "metadata": {},
     "output_type": "execute_result"
    }
   ],
   "source": [
    "# load tidied data and print rows\n",
    "data = pd.read_csv(\n",
    "    'tidy-data', \n",
    "    dtype = {'pop_trans_acc':'Int64',\n",
    "             'county_fips': 'Int64'},\n",
    "    index_col = 0\n",
    ")\n",
    "\n",
    "data.head()"
   ]
  },
  {
   "attachments": {},
   "cell_type": "markdown",
   "metadata": {},
   "source": [
    "---\n",
    "# 2. Initial Explorations"
   ]
  },
  {
   "attachments": {},
   "cell_type": "markdown",
   "metadata": {},
   "source": [
    "### Basic properties of the dataset"
   ]
  },
  {
   "attachments": {},
   "cell_type": "markdown",
   "metadata": {},
   "source": [
    "##### (a) Dimensions of the data"
   ]
  },
  {
   "cell_type": "code",
   "execution_count": 23,
   "metadata": {},
   "outputs": [
    {
     "data": {
      "text/plain": [
       "(66006, 17)"
      ]
     },
     "execution_count": 23,
     "metadata": {},
     "output_type": "execute_result"
    }
   ],
   "source": [
    "data.shape"
   ]
  },
  {
   "attachments": {},
   "cell_type": "markdown",
   "metadata": {},
   "source": [
    "The data set contains 66,006 rows (66,005 observations / 1 header) and 17 columns (variables)."
   ]
  },
  {
   "attachments": {},
   "cell_type": "markdown",
   "metadata": {},
   "source": [
    "##### (b) Missing values"
   ]
  },
  {
   "cell_type": "code",
   "execution_count": 24,
   "metadata": {},
   "outputs": [
    {
     "data": {
      "text/html": [
       "<div>\n",
       "<style scoped>\n",
       "    .dataframe tbody tr th:only-of-type {\n",
       "        vertical-align: middle;\n",
       "    }\n",
       "\n",
       "    .dataframe tbody tr th {\n",
       "        vertical-align: top;\n",
       "    }\n",
       "\n",
       "    .dataframe thead th {\n",
       "        text-align: right;\n",
       "    }\n",
       "</style>\n",
       "<table border=\"1\" class=\"dataframe\">\n",
       "  <thead>\n",
       "    <tr style=\"text-align: right;\">\n",
       "      <th></th>\n",
       "      <th>year</th>\n",
       "      <th>race_eth_code</th>\n",
       "      <th>race_eth_name</th>\n",
       "      <th>geotype</th>\n",
       "      <th>geotypevalue</th>\n",
       "      <th>geoname</th>\n",
       "      <th>county_name</th>\n",
       "      <th>county_fips</th>\n",
       "      <th>region_name</th>\n",
       "      <th>region_code</th>\n",
       "      <th>pop_trans_acc</th>\n",
       "      <th>pop2010</th>\n",
       "      <th>p_trans_acc</th>\n",
       "      <th>LL_95CI</th>\n",
       "      <th>UL_95CI</th>\n",
       "      <th>se</th>\n",
       "      <th>rse</th>\n",
       "    </tr>\n",
       "  </thead>\n",
       "  <tbody>\n",
       "    <tr>\n",
       "      <th>missing</th>\n",
       "      <td>0</td>\n",
       "      <td>0</td>\n",
       "      <td>0</td>\n",
       "      <td>0</td>\n",
       "      <td>0</td>\n",
       "      <td>54</td>\n",
       "      <td>63</td>\n",
       "      <td>63</td>\n",
       "      <td>0</td>\n",
       "      <td>0</td>\n",
       "      <td>1182</td>\n",
       "      <td>0</td>\n",
       "      <td>1557</td>\n",
       "      <td>1182</td>\n",
       "      <td>1557</td>\n",
       "      <td>1182</td>\n",
       "      <td>14700</td>\n",
       "    </tr>\n",
       "  </tbody>\n",
       "</table>\n",
       "</div>"
      ],
      "text/plain": [
       "         year  race_eth_code  race_eth_name  geotype  geotypevalue  geoname  \\\n",
       "missing     0              0              0        0             0       54   \n",
       "\n",
       "         county_name  county_fips  region_name  region_code  pop_trans_acc  \\\n",
       "missing           63           63            0            0           1182   \n",
       "\n",
       "         pop2010  p_trans_acc  LL_95CI  UL_95CI    se    rse  \n",
       "missing        0         1557     1182     1557  1182  14700  "
      ]
     },
     "execution_count": 24,
     "metadata": {},
     "output_type": "execute_result"
    }
   ],
   "source": [
    "pd.DataFrame(data.isna().sum()).transpose().rename(index = {0: 'missing'})"
   ]
  },
  {
   "attachments": {},
   "cell_type": "markdown",
   "metadata": {},
   "source": [
    "Yes, there are missing values in the data set. The variables missing are 'geoname,' 'county_name,' 'county_fips,' 'pop_trans_acc,' 'p_trans_acc' and the statsitical reliability measurements: ('LL_95CI,' 'UL_95CI,' 'se,' and 'rse.') The majority of variables missing are from these statistical measurements. In addition, none of the variables are missing more than 2.5% of the time, except 'rse' (22.3%). Some of the values are missing because the 'geotype' is stratified by four levels: ('RE'=region, 'CT'=census tract, 'PL'=place/town/city, 'CO'=county). Therefore, 'geoname' or 'county_name' may be missing if the row observation is for the overall region ('RE'). 'pop_trans_acc' is missing when the 'pop2010' (2010 population) was 0. And as a result of this, the stastical reliability measurements are missing for these rows too. "
   ]
  },
  {
   "attachments": {},
   "cell_type": "markdown",
   "metadata": {},
   "source": [
    "##### (c) Variable summaries"
   ]
  },
  {
   "attachments": {},
   "cell_type": "markdown",
   "metadata": {},
   "source": [
    "**Value counts of the race/ethnicity groups by year**"
   ]
  },
  {
   "cell_type": "code",
   "execution_count": 25,
   "metadata": {},
   "outputs": [
    {
     "data": {
      "text/html": [
       "<div>\n",
       "<style scoped>\n",
       "    .dataframe tbody tr th:only-of-type {\n",
       "        vertical-align: middle;\n",
       "    }\n",
       "\n",
       "    .dataframe tbody tr th {\n",
       "        vertical-align: top;\n",
       "    }\n",
       "\n",
       "    .dataframe thead tr th {\n",
       "        text-align: left;\n",
       "    }\n",
       "</style>\n",
       "<table border=\"1\" class=\"dataframe\">\n",
       "  <thead>\n",
       "    <tr>\n",
       "      <th>year</th>\n",
       "      <th colspan=\"9\" halign=\"left\">2008</th>\n",
       "      <th colspan=\"9\" halign=\"left\">2012</th>\n",
       "    </tr>\n",
       "    <tr>\n",
       "      <th>race_eth_name</th>\n",
       "      <th>AIAN</th>\n",
       "      <th>AfricanAm</th>\n",
       "      <th>Asian</th>\n",
       "      <th>Latino</th>\n",
       "      <th>Multiple</th>\n",
       "      <th>NHOPI</th>\n",
       "      <th>Other</th>\n",
       "      <th>Total</th>\n",
       "      <th>White</th>\n",
       "      <th>AIAN</th>\n",
       "      <th>AfricanAm</th>\n",
       "      <th>Asian</th>\n",
       "      <th>Latino</th>\n",
       "      <th>Multiple</th>\n",
       "      <th>NHOPI</th>\n",
       "      <th>Other</th>\n",
       "      <th>Total</th>\n",
       "      <th>White</th>\n",
       "    </tr>\n",
       "  </thead>\n",
       "  <tbody>\n",
       "    <tr>\n",
       "      <th>count</th>\n",
       "      <td>518</td>\n",
       "      <td>518</td>\n",
       "      <td>518</td>\n",
       "      <td>518</td>\n",
       "      <td>518</td>\n",
       "      <td>518</td>\n",
       "      <td>518</td>\n",
       "      <td>518</td>\n",
       "      <td>518</td>\n",
       "      <td>6816</td>\n",
       "      <td>6816</td>\n",
       "      <td>6816</td>\n",
       "      <td>6816</td>\n",
       "      <td>6816</td>\n",
       "      <td>6816</td>\n",
       "      <td>6816</td>\n",
       "      <td>6816</td>\n",
       "      <td>6816</td>\n",
       "    </tr>\n",
       "  </tbody>\n",
       "</table>\n",
       "</div>"
      ],
      "text/plain": [
       "year          2008                                                          \\\n",
       "race_eth_name AIAN AfricanAm Asian Latino Multiple NHOPI Other Total White   \n",
       "count          518       518   518    518      518   518   518   518   518   \n",
       "\n",
       "year           2012                                                          \n",
       "race_eth_name  AIAN AfricanAm Asian Latino Multiple NHOPI Other Total White  \n",
       "count          6816      6816  6816   6816     6816  6816  6816  6816  6816  "
      ]
     },
     "execution_count": 25,
     "metadata": {},
     "output_type": "execute_result"
    }
   ],
   "source": [
    "pd.DataFrame(data.groupby(['year']).race_eth_name.value_counts()).transpose().rename(index = {'race_eth_name': 'count'})"
   ]
  },
  {
   "attachments": {},
   "cell_type": "markdown",
   "metadata": {},
   "source": [
    "* Since the 2008 study was confined to the Sacramento region, there are less observations for each race/ethnicity group. In the year 2012, the study incorporated three regions (Southern California, Bay Area, San Diego) and therefore, had more observations for each group. "
   ]
  },
  {
   "attachments": {},
   "cell_type": "markdown",
   "metadata": {},
   "source": [
    "**Summary statistics of the percent of residents that reside within 1/2 mile of public transportation. Sorted by year, region, and race/ethnicity**"
   ]
  },
  {
   "cell_type": "code",
   "execution_count": 26,
   "metadata": {
    "scrolled": false
   },
   "outputs": [
    {
     "data": {
      "text/html": [
       "<div>\n",
       "<style scoped>\n",
       "    .dataframe tbody tr th:only-of-type {\n",
       "        vertical-align: middle;\n",
       "    }\n",
       "\n",
       "    .dataframe tbody tr th {\n",
       "        vertical-align: top;\n",
       "    }\n",
       "\n",
       "    .dataframe thead th {\n",
       "        text-align: right;\n",
       "    }\n",
       "</style>\n",
       "<table border=\"1\" class=\"dataframe\">\n",
       "  <thead>\n",
       "    <tr style=\"text-align: right;\">\n",
       "      <th></th>\n",
       "      <th></th>\n",
       "      <th></th>\n",
       "      <th>count</th>\n",
       "      <th>mean</th>\n",
       "      <th>min</th>\n",
       "      <th>25%</th>\n",
       "      <th>50%</th>\n",
       "      <th>75%</th>\n",
       "      <th>max</th>\n",
       "    </tr>\n",
       "    <tr>\n",
       "      <th>year</th>\n",
       "      <th>region_name</th>\n",
       "      <th>race_eth_name</th>\n",
       "      <th></th>\n",
       "      <th></th>\n",
       "      <th></th>\n",
       "      <th></th>\n",
       "      <th></th>\n",
       "      <th></th>\n",
       "      <th></th>\n",
       "    </tr>\n",
       "  </thead>\n",
       "  <tbody>\n",
       "    <tr>\n",
       "      <th rowspan=\"5\" valign=\"top\">2008</th>\n",
       "      <th rowspan=\"5\" valign=\"top\">Sacramento Area</th>\n",
       "      <th>AIAN</th>\n",
       "      <td>1.0</td>\n",
       "      <td>0.191476</td>\n",
       "      <td>0.191476</td>\n",
       "      <td>0.191476</td>\n",
       "      <td>0.191476</td>\n",
       "      <td>0.191476</td>\n",
       "      <td>0.191476</td>\n",
       "    </tr>\n",
       "    <tr>\n",
       "      <th>AfricanAm</th>\n",
       "      <td>1.0</td>\n",
       "      <td>0.212514</td>\n",
       "      <td>0.212514</td>\n",
       "      <td>0.212514</td>\n",
       "      <td>0.212514</td>\n",
       "      <td>0.212514</td>\n",
       "      <td>0.212514</td>\n",
       "    </tr>\n",
       "    <tr>\n",
       "      <th>Asian</th>\n",
       "      <td>1.0</td>\n",
       "      <td>0.211100</td>\n",
       "      <td>0.211100</td>\n",
       "      <td>0.211100</td>\n",
       "      <td>0.211100</td>\n",
       "      <td>0.211100</td>\n",
       "      <td>0.211100</td>\n",
       "    </tr>\n",
       "    <tr>\n",
       "      <th>Latino</th>\n",
       "      <td>1.0</td>\n",
       "      <td>0.189178</td>\n",
       "      <td>0.189178</td>\n",
       "      <td>0.189178</td>\n",
       "      <td>0.189178</td>\n",
       "      <td>0.189178</td>\n",
       "      <td>0.189178</td>\n",
       "    </tr>\n",
       "    <tr>\n",
       "      <th>Multiple</th>\n",
       "      <td>1.0</td>\n",
       "      <td>0.186008</td>\n",
       "      <td>0.186008</td>\n",
       "      <td>0.186008</td>\n",
       "      <td>0.186008</td>\n",
       "      <td>0.186008</td>\n",
       "      <td>0.186008</td>\n",
       "    </tr>\n",
       "  </tbody>\n",
       "</table>\n",
       "</div>"
      ],
      "text/plain": [
       "                                    count      mean       min       25%  \\\n",
       "year region_name     race_eth_name                                        \n",
       "2008 Sacramento Area AIAN             1.0  0.191476  0.191476  0.191476   \n",
       "                     AfricanAm        1.0  0.212514  0.212514  0.212514   \n",
       "                     Asian            1.0  0.211100  0.211100  0.211100   \n",
       "                     Latino           1.0  0.189178  0.189178  0.189178   \n",
       "                     Multiple         1.0  0.186008  0.186008  0.186008   \n",
       "\n",
       "                                         50%       75%       max  \n",
       "year region_name     race_eth_name                                \n",
       "2008 Sacramento Area AIAN           0.191476  0.191476  0.191476  \n",
       "                     AfricanAm      0.212514  0.212514  0.212514  \n",
       "                     Asian          0.211100  0.211100  0.211100  \n",
       "                     Latino         0.189178  0.189178  0.189178  \n",
       "                     Multiple       0.186008  0.186008  0.186008  "
      ]
     },
     "execution_count": 26,
     "metadata": {},
     "output_type": "execute_result"
    }
   ],
   "source": [
    "# grouping the data by the level = 'RE' (Sacramento, Bay Area, and Southern California) to provide a regional overview \n",
    "# the San Diego region has no level 'RE,' so group by 'CO' and this gives same results\n",
    "\n",
    "data_region = data[(data.geotype == 'RE') | ((data.region_name == 'San Diego') & (data.geotype == 'CO'))]\n",
    "data_region.groupby(['year', 'region_name', 'race_eth_name']).p_trans_acc.describe().drop(columns = {'std'}).head()"
   ]
  },
  {
   "attachments": {},
   "cell_type": "markdown",
   "metadata": {},
   "source": [
    "_(Chart continues below with the other regions...)_"
   ]
  },
  {
   "attachments": {},
   "cell_type": "markdown",
   "metadata": {},
   "source": [
    "* This chart shows how access to public transportation varies across each region. Across all race/ethnicity groups, the Bay Area has the highest mean access to public transportation. The Sacramento Area has the lowest mean access. There are similar public transportation rates between the San Diego and Southern California regions. "
   ]
  },
  {
   "attachments": {},
   "cell_type": "markdown",
   "metadata": {},
   "source": [
    "**Value counts of the counties sorted by year and region**"
   ]
  },
  {
   "cell_type": "code",
   "execution_count": 27,
   "metadata": {},
   "outputs": [
    {
     "data": {
      "text/html": [
       "<div>\n",
       "<style scoped>\n",
       "    .dataframe tbody tr th:only-of-type {\n",
       "        vertical-align: middle;\n",
       "    }\n",
       "\n",
       "    .dataframe tbody tr th {\n",
       "        vertical-align: top;\n",
       "    }\n",
       "\n",
       "    .dataframe thead tr th {\n",
       "        text-align: left;\n",
       "    }\n",
       "</style>\n",
       "<table border=\"1\" class=\"dataframe\">\n",
       "  <thead>\n",
       "    <tr>\n",
       "      <th>year</th>\n",
       "      <th colspan=\"3\" halign=\"left\">2008</th>\n",
       "      <th colspan=\"16\" halign=\"left\">2012</th>\n",
       "    </tr>\n",
       "    <tr>\n",
       "      <th>region_name</th>\n",
       "      <th colspan=\"3\" halign=\"left\">Sacramento Area</th>\n",
       "      <th colspan=\"9\" halign=\"left\">Bay Area</th>\n",
       "      <th>San Diego</th>\n",
       "      <th colspan=\"6\" halign=\"left\">Southern California</th>\n",
       "    </tr>\n",
       "    <tr>\n",
       "      <th>county_name</th>\n",
       "      <th>Sacramento</th>\n",
       "      <th>Placer</th>\n",
       "      <th>Yolo</th>\n",
       "      <th>Santa Clara</th>\n",
       "      <th>Alameda</th>\n",
       "      <th>Contra Costa</th>\n",
       "      <th>San Francisco</th>\n",
       "      <th>San Mateo</th>\n",
       "      <th>Sonoma</th>\n",
       "      <th>Solano</th>\n",
       "      <th>Marin</th>\n",
       "      <th>Napa</th>\n",
       "      <th>San Diego</th>\n",
       "      <th>Los Angeles</th>\n",
       "      <th>Orange</th>\n",
       "      <th>Riverside</th>\n",
       "      <th>San Bernardino</th>\n",
       "      <th>Ventura</th>\n",
       "      <th>Imperial</th>\n",
       "    </tr>\n",
       "  </thead>\n",
       "  <tbody>\n",
       "    <tr>\n",
       "      <th>count</th>\n",
       "      <td>3177</td>\n",
       "      <td>954</td>\n",
       "      <td>495</td>\n",
       "      <td>3573</td>\n",
       "      <td>3438</td>\n",
       "      <td>2358</td>\n",
       "      <td>1791</td>\n",
       "      <td>1719</td>\n",
       "      <td>1242</td>\n",
       "      <td>972</td>\n",
       "      <td>792</td>\n",
       "      <td>468</td>\n",
       "      <td>6138</td>\n",
       "      <td>22392</td>\n",
       "      <td>5625</td>\n",
       "      <td>4797</td>\n",
       "      <td>3789</td>\n",
       "      <td>1782</td>\n",
       "      <td>441</td>\n",
       "    </tr>\n",
       "  </tbody>\n",
       "</table>\n",
       "</div>"
      ],
      "text/plain": [
       "year                   2008                    2012                       \\\n",
       "region_name Sacramento Area                Bay Area                        \n",
       "county_name      Sacramento Placer Yolo Santa Clara Alameda Contra Costa   \n",
       "count                  3177    954  495        3573    3438         2358   \n",
       "\n",
       "year                                                                    \\\n",
       "region_name                                                  San Diego   \n",
       "county_name San Francisco San Mateo Sonoma Solano Marin Napa San Diego   \n",
       "count                1791      1719   1242    972   792  468      6138   \n",
       "\n",
       "year                                                                     \\\n",
       "region_name Southern California                                           \n",
       "county_name         Los Angeles Orange Riverside San Bernardino Ventura   \n",
       "count                     22392   5625      4797           3789    1782   \n",
       "\n",
       "year                  \n",
       "region_name           \n",
       "county_name Imperial  \n",
       "count            441  "
      ]
     },
     "execution_count": 27,
     "metadata": {},
     "output_type": "execute_result"
    }
   ],
   "source": [
    "pd.DataFrame(data.groupby(['year', 'region_name']).county_name.value_counts()).transpose().rename(index = {'county_name': 'count'})"
   ]
  },
  {
   "attachments": {},
   "cell_type": "markdown",
   "metadata": {},
   "source": [
    "* This chart lists the counties in each of the four regions and shows the number of observations per each county. It is important to note that the San Diego region only has one county named 'San Diego'. Out of the counties, Los Angeles had the most observations at 22,392 almost 4x higher than the next highest county of San Diego."
   ]
  },
  {
   "attachments": {},
   "cell_type": "markdown",
   "metadata": {},
   "source": [
    "**Value counts of the level of geography sorted by year and region**"
   ]
  },
  {
   "cell_type": "code",
   "execution_count": 28,
   "metadata": {
    "scrolled": false
   },
   "outputs": [
    {
     "data": {
      "text/html": [
       "<div>\n",
       "<style scoped>\n",
       "    .dataframe tbody tr th:only-of-type {\n",
       "        vertical-align: middle;\n",
       "    }\n",
       "\n",
       "    .dataframe tbody tr th {\n",
       "        vertical-align: top;\n",
       "    }\n",
       "\n",
       "    .dataframe thead tr th {\n",
       "        text-align: left;\n",
       "    }\n",
       "</style>\n",
       "<table border=\"1\" class=\"dataframe\">\n",
       "  <thead>\n",
       "    <tr>\n",
       "      <th>year</th>\n",
       "      <th colspan=\"4\" halign=\"left\">2008</th>\n",
       "      <th colspan=\"11\" halign=\"left\">2012</th>\n",
       "    </tr>\n",
       "    <tr>\n",
       "      <th>region_name</th>\n",
       "      <th colspan=\"4\" halign=\"left\">Sacramento Area</th>\n",
       "      <th colspan=\"4\" halign=\"left\">Bay Area</th>\n",
       "      <th colspan=\"3\" halign=\"left\">San Diego</th>\n",
       "      <th colspan=\"4\" halign=\"left\">Southern California</th>\n",
       "    </tr>\n",
       "    <tr>\n",
       "      <th>geotype</th>\n",
       "      <th>CT</th>\n",
       "      <th>PL</th>\n",
       "      <th>CO</th>\n",
       "      <th>RE</th>\n",
       "      <th>CT</th>\n",
       "      <th>PL</th>\n",
       "      <th>CO</th>\n",
       "      <th>RE</th>\n",
       "      <th>CT</th>\n",
       "      <th>PL</th>\n",
       "      <th>CO</th>\n",
       "      <th>CT</th>\n",
       "      <th>PL</th>\n",
       "      <th>CO</th>\n",
       "      <th>RE</th>\n",
       "    </tr>\n",
       "  </thead>\n",
       "  <tbody>\n",
       "    <tr>\n",
       "      <th>count</th>\n",
       "      <td>3987</td>\n",
       "      <td>639</td>\n",
       "      <td>27</td>\n",
       "      <td>9</td>\n",
       "      <td>14292</td>\n",
       "      <td>1989</td>\n",
       "      <td>81</td>\n",
       "      <td>9</td>\n",
       "      <td>5652</td>\n",
       "      <td>477</td>\n",
       "      <td>9</td>\n",
       "      <td>35604</td>\n",
       "      <td>3168</td>\n",
       "      <td>54</td>\n",
       "      <td>9</td>\n",
       "    </tr>\n",
       "  </tbody>\n",
       "</table>\n",
       "</div>"
      ],
      "text/plain": [
       "year                   2008                 2012                              \\\n",
       "region_name Sacramento Area             Bay Area              San Diego        \n",
       "geotype                  CT   PL  CO RE       CT    PL  CO RE        CT   PL   \n",
       "count                  3987  639  27  9    14292  1989  81  9      5652  477   \n",
       "\n",
       "year                                             \n",
       "region_name    Southern California               \n",
       "geotype     CO                  CT    PL  CO RE  \n",
       "count        9               35604  3168  54  9  "
      ]
     },
     "execution_count": 28,
     "metadata": {},
     "output_type": "execute_result"
    }
   ],
   "source": [
    "pd.DataFrame(data.groupby(['year', 'region_name']).geotype.value_counts()).transpose().rename(index = {'geotype': 'count'})"
   ]
  },
  {
   "attachments": {},
   "cell_type": "markdown",
   "metadata": {},
   "source": [
    "* 'geotype' describes the level of geography for data in that row ('RE'=region, 'CT'=census tract, 'PL'=place/town/city, 'CO'=county). Having more values for 'PL' means we have more granular data, as we can observe public transportation rates in a specific city. One example where the geotype is PL is from row 4015: 'Auburn city (PL) / Placer (CO) / Sacramento Area (RE). This allows us to examine a specific city, compared to the geotype being 'CO' or 'RE,' where we could only examine a county or region."
   ]
  },
  {
   "attachments": {},
   "cell_type": "markdown",
   "metadata": {},
   "source": [
    "### Exploratory analysis"
   ]
  },
  {
   "attachments": {},
   "cell_type": "markdown",
   "metadata": {},
   "source": [
    "**(a) Access to public transportation by region and race/ethnicity**"
   ]
  },
  {
   "cell_type": "code",
   "execution_count": 29,
   "metadata": {
    "scrolled": false
   },
   "outputs": [
    {
     "data": {
      "text/html": [
       "\n",
       "<div id=\"altair-viz-4679cb13dce94dc8b1ff7697e13270dd\"></div>\n",
       "<script type=\"text/javascript\">\n",
       "  var VEGA_DEBUG = (typeof VEGA_DEBUG == \"undefined\") ? {} : VEGA_DEBUG;\n",
       "  (function(spec, embedOpt){\n",
       "    let outputDiv = document.currentScript.previousElementSibling;\n",
       "    if (outputDiv.id !== \"altair-viz-4679cb13dce94dc8b1ff7697e13270dd\") {\n",
       "      outputDiv = document.getElementById(\"altair-viz-4679cb13dce94dc8b1ff7697e13270dd\");\n",
       "    }\n",
       "    const paths = {\n",
       "      \"vega\": \"https://cdn.jsdelivr.net/npm//vega@5?noext\",\n",
       "      \"vega-lib\": \"https://cdn.jsdelivr.net/npm//vega-lib?noext\",\n",
       "      \"vega-lite\": \"https://cdn.jsdelivr.net/npm//vega-lite@4.17.0?noext\",\n",
       "      \"vega-embed\": \"https://cdn.jsdelivr.net/npm//vega-embed@6?noext\",\n",
       "    };\n",
       "\n",
       "    function maybeLoadScript(lib, version) {\n",
       "      var key = `${lib.replace(\"-\", \"\")}_version`;\n",
       "      return (VEGA_DEBUG[key] == version) ?\n",
       "        Promise.resolve(paths[lib]) :\n",
       "        new Promise(function(resolve, reject) {\n",
       "          var s = document.createElement('script');\n",
       "          document.getElementsByTagName(\"head\")[0].appendChild(s);\n",
       "          s.async = true;\n",
       "          s.onload = () => {\n",
       "            VEGA_DEBUG[key] = version;\n",
       "            return resolve(paths[lib]);\n",
       "          };\n",
       "          s.onerror = () => reject(`Error loading script: ${paths[lib]}`);\n",
       "          s.src = paths[lib];\n",
       "        });\n",
       "    }\n",
       "\n",
       "    function showError(err) {\n",
       "      outputDiv.innerHTML = `<div class=\"error\" style=\"color:red;\">${err}</div>`;\n",
       "      throw err;\n",
       "    }\n",
       "\n",
       "    function displayChart(vegaEmbed) {\n",
       "      vegaEmbed(outputDiv, spec, embedOpt)\n",
       "        .catch(err => showError(`Javascript Error: ${err.message}<br>This usually means there's a typo in your chart specification. See the javascript console for the full traceback.`));\n",
       "    }\n",
       "\n",
       "    if(typeof define === \"function\" && define.amd) {\n",
       "      requirejs.config({paths});\n",
       "      require([\"vega-embed\"], displayChart, err => showError(`Error loading script: ${err.message}`));\n",
       "    } else {\n",
       "      maybeLoadScript(\"vega\", \"5\")\n",
       "        .then(() => maybeLoadScript(\"vega-lite\", \"4.17.0\"))\n",
       "        .then(() => maybeLoadScript(\"vega-embed\", \"6\"))\n",
       "        .catch(showError)\n",
       "        .then(() => displayChart(vegaEmbed));\n",
       "    }\n",
       "  })({\"config\": {\"view\": {\"continuousWidth\": 400, \"continuousHeight\": 300}}, \"data\": {\"name\": \"data-5ce75ee8f12dcf1355c27f0dfbed9f08\"}, \"facet\": {\"column\": {\"field\": \"region_name\", \"type\": \"nominal\"}}, \"spec\": {\"mark\": \"bar\", \"encoding\": {\"x\": {\"field\": \"race_eth_name\", \"title\": \"\", \"type\": \"nominal\"}, \"y\": {\"aggregate\": \"mean\", \"field\": \"p_trans_acc\", \"scale\": {\"domain\": [0, 0.8]}, \"title\": \"Mean % Public Transportation Access\", \"type\": \"quantitative\"}}, \"height\": 250, \"width\": 200}, \"$schema\": \"https://vega.github.io/schema/vega-lite/v4.17.0.json\", \"datasets\": {\"data-5ce75ee8f12dcf1355c27f0dfbed9f08\": [{\"year\": 2008, \"race_eth_code\": 3, \"race_eth_name\": \"AfricanAm\", \"geotype\": \"RE\", \"geotypevalue\": 8, \"geoname\": null, \"county_name\": null, \"county_fips\": null, \"region_name\": \"Sacramento Area\", \"region_code\": 8, \"pop_trans_acc\": 32277, \"pop2010\": 151882, \"p_trans_acc\": 0.212513662, \"LL_95CI\": 0.210456266, \"UL_95CI\": 0.214571058, \"se\": 0.001049692, \"rse\": 0.493940837}, {\"year\": 2008, \"race_eth_code\": 1, \"race_eth_name\": \"AIAN\", \"geotype\": \"RE\", \"geotypevalue\": 8, \"geoname\": null, \"county_name\": null, \"county_fips\": null, \"region_name\": \"Sacramento Area\", \"region_code\": 8, \"pop_trans_acc\": 2161, \"pop2010\": 11286, \"p_trans_acc\": 0.191476165, \"LL_95CI\": 0.184216947, \"UL_95CI\": 0.198735383, \"se\": 0.003703683, \"rse\": 1.934278614}, {\"year\": 2008, \"race_eth_code\": 2, \"race_eth_name\": \"Asian\", \"geotype\": \"RE\", \"geotypevalue\": 8, \"geoname\": null, \"county_name\": null, \"county_fips\": null, \"region_name\": \"Sacramento Area\", \"region_code\": 8, \"pop_trans_acc\": 52700, \"pop2010\": 249645, \"p_trans_acc\": 0.211099762, \"LL_95CI\": 0.209498916, \"UL_95CI\": 0.212700608, \"se\": 0.000816758, \"rse\": 0.386906242}, {\"year\": 2008, \"race_eth_code\": 4, \"race_eth_name\": \"Latino\", \"geotype\": \"RE\", \"geotypevalue\": 8, \"geoname\": null, \"county_name\": null, \"county_fips\": null, \"region_name\": \"Sacramento Area\", \"region_code\": 8, \"pop_trans_acc\": 79106, \"pop2010\": 418156, \"p_trans_acc\": 0.189178201, \"LL_95CI\": 0.187991107, \"UL_95CI\": 0.190365296, \"se\": 0.00060566, \"rse\": 0.320153309}, {\"year\": 2008, \"race_eth_code\": 7, \"race_eth_name\": \"Multiple\", \"geotype\": \"RE\", \"geotypevalue\": 8, \"geoname\": null, \"county_name\": null, \"county_fips\": null, \"region_name\": \"Sacramento Area\", \"region_code\": 8, \"pop_trans_acc\": 15088, \"pop2010\": 81115, \"p_trans_acc\": 0.18600752, \"LL_95CI\": 0.183329703, \"UL_95CI\": 0.188685337, \"se\": 0.001366233, \"rse\": 0.734504327}, {\"year\": 2008, \"race_eth_code\": 5, \"race_eth_name\": \"NHOPI\", \"geotype\": \"RE\", \"geotypevalue\": 8, \"geoname\": null, \"county_name\": null, \"county_fips\": null, \"region_name\": \"Sacramento Area\", \"region_code\": 8, \"pop_trans_acc\": 2517, \"pop2010\": 14780, \"p_trans_acc\": 0.1702977, \"LL_95CI\": 0.164237535, \"UL_95CI\": 0.176357864, \"se\": 0.003091921, \"rse\": 1.815597346}, {\"year\": 2008, \"race_eth_code\": 8, \"race_eth_name\": \"Other\", \"geotype\": \"RE\", \"geotypevalue\": 8, \"geoname\": null, \"county_name\": null, \"county_fips\": null, \"region_name\": \"Sacramento Area\", \"region_code\": 8, \"pop_trans_acc\": 928, \"pop2010\": 4586, \"p_trans_acc\": 0.202354993, \"LL_95CI\": 0.190727106, \"UL_95CI\": 0.213982881, \"se\": 0.005932596, \"rse\": 2.931776351}, {\"year\": 2008, \"race_eth_code\": 9, \"race_eth_name\": \"Total\", \"geotype\": \"RE\", \"geotypevalue\": 8, \"geoname\": null, \"county_name\": null, \"county_fips\": null, \"region_name\": \"Sacramento Area\", \"region_code\": 8, \"pop_trans_acc\": 352517, \"pop2010\": 1999270, \"p_trans_acc\": 0.176322858, \"LL_95CI\": 0.175794591, \"UL_95CI\": 0.176851124, \"se\": 0.000269524, \"rse\": 0.152858106}, {\"year\": 2008, \"race_eth_code\": 6, \"race_eth_name\": \"White\", \"geotype\": \"RE\", \"geotypevalue\": 8, \"geoname\": null, \"county_name\": null, \"county_fips\": null, \"region_name\": \"Sacramento Area\", \"region_code\": 8, \"pop_trans_acc\": 167740, \"pop2010\": 1067820, \"p_trans_acc\": 0.1570864, \"LL_95CI\": 0.156396212, \"UL_95CI\": 0.157776589, \"se\": 0.000352137, \"rse\": 0.22416779}, {\"year\": 2012, \"race_eth_code\": 1, \"race_eth_name\": \"AIAN\", \"geotype\": \"RE\", \"geotypevalue\": 1, \"geoname\": null, \"county_name\": null, \"county_fips\": null, \"region_name\": \"Bay Area\", \"region_code\": 1, \"pop_trans_acc\": 10702, \"pop2010\": 20691, \"p_trans_acc\": 0.517229713, \"LL_95CI\": 0.510420808, \"UL_95CI\": 0.524038619, \"se\": 0.003473932, \"rse\": 0.719582721}, {\"year\": 2012, \"race_eth_code\": 2, \"race_eth_name\": \"Asian\", \"geotype\": \"RE\", \"geotypevalue\": 1, \"geoname\": null, \"county_name\": null, \"county_fips\": null, \"region_name\": \"Bay Area\", \"region_code\": 1, \"pop_trans_acc\": 1052687, \"pop2010\": 1645872, \"p_trans_acc\": 0.639592265, \"LL_95CI\": 0.638858754, \"UL_95CI\": 0.640325776, \"se\": 0.00037424, \"rse\": 0.103838049}, {\"year\": 2012, \"race_eth_code\": 3, \"race_eth_name\": \"AfricanAm\", \"geotype\": \"RE\", \"geotypevalue\": 1, \"geoname\": null, \"county_name\": null, \"county_fips\": null, \"region_name\": \"Bay Area\", \"region_code\": 1, \"pop_trans_acc\": 303084, \"pop2010\": 460178, \"p_trans_acc\": 0.658623402, \"LL_95CI\": 0.657253377, \"UL_95CI\": 0.659993428, \"se\": 0.000698993, \"rse\": 0.20475701}, {\"year\": 2012, \"race_eth_code\": 4, \"race_eth_name\": \"Latino\", \"geotype\": \"RE\", \"geotypevalue\": 1, \"geoname\": null, \"county_name\": null, \"county_fips\": null, \"region_name\": \"Bay Area\", \"region_code\": 1, \"pop_trans_acc\": 1033231, \"pop2010\": 1681800, \"p_trans_acc\": 0.614360209, \"LL_95CI\": 0.613624559, \"UL_95CI\": 0.615095859, \"se\": 0.000375332, \"rse\": 0.097327025}, {\"year\": 2012, \"race_eth_code\": 5, \"race_eth_name\": \"NHOPI\", \"geotype\": \"RE\", \"geotypevalue\": 1, \"geoname\": null, \"county_name\": null, \"county_fips\": null, \"region_name\": \"Bay Area\", \"region_code\": 1, \"pop_trans_acc\": 24315, \"pop2010\": 41003, \"p_trans_acc\": 0.59300539, \"LL_95CI\": 0.588250156, \"UL_95CI\": 0.597760624, \"se\": 0.00242614, \"rse\": 0.596111053}, {\"year\": 2012, \"race_eth_code\": 6, \"race_eth_name\": \"White\", \"geotype\": \"RE\", \"geotypevalue\": 1, \"geoname\": null, \"county_name\": null, \"county_fips\": null, \"region_name\": \"Bay Area\", \"region_code\": 1, \"pop_trans_acc\": 1358638, \"pop2010\": 3032903, \"p_trans_acc\": 0.447966189, \"LL_95CI\": 0.447406519, \"UL_95CI\": 0.44852586, \"se\": 0.000285546, \"rse\": 0.063742774}, {\"year\": 2012, \"race_eth_code\": 7, \"race_eth_name\": \"Multiple\", \"geotype\": \"RE\", \"geotypevalue\": 1, \"geoname\": null, \"county_name\": null, \"county_fips\": null, \"region_name\": \"Bay Area\", \"region_code\": 1, \"pop_trans_acc\": 132169, \"pop2010\": 248268, \"p_trans_acc\": 0.532364219, \"LL_95CI\": 0.530401519, \"UL_95CI\": 0.53432692, \"se\": 0.001001378, \"rse\": 0.214136248}, {\"year\": 2012, \"race_eth_code\": 8, \"race_eth_name\": \"Other\", \"geotype\": \"RE\", \"geotypevalue\": 1, \"geoname\": null, \"county_name\": null, \"county_fips\": null, \"region_name\": \"Bay Area\", \"region_code\": 1, \"pop_trans_acc\": 11460, \"pop2010\": 20024, \"p_trans_acc\": 0.572313224, \"LL_95CI\": 0.565460544, \"UL_95CI\": 0.579165904, \"se\": 0.003496265, \"rse\": 0.817482682}, {\"year\": 2012, \"race_eth_code\": 9, \"race_eth_name\": \"Total\", \"geotype\": \"RE\", \"geotypevalue\": 1, \"geoname\": null, \"county_name\": null, \"county_fips\": null, \"region_name\": \"Bay Area\", \"region_code\": 1, \"pop_trans_acc\": 3926286, \"pop2010\": 7150739, \"p_trans_acc\": 0.549074159, \"LL_95CI\": 0.548709448, \"UL_95CI\": 0.549438869, \"se\": 0.000186077, \"rse\": 0.041265535}, {\"year\": 2012, \"race_eth_code\": 1, \"race_eth_name\": \"AIAN\", \"geotype\": \"CO\", \"geotypevalue\": 6073, \"geoname\": \"San Diego\", \"county_name\": \"San Diego\", \"county_fips\": 6073, \"region_name\": \"San Diego\", \"region_code\": 9, \"pop_trans_acc\": 3192, \"pop2010\": 14098, \"p_trans_acc\": 0.226415094, \"LL_95CI\": 0.219506591, \"UL_95CI\": 0.233323598, \"se\": 0.003524747, \"rse\": 1.556763183}, {\"year\": 2012, \"race_eth_code\": 2, \"race_eth_name\": \"Asian\", \"geotype\": \"CO\", \"geotypevalue\": 6073, \"geoname\": \"San Diego\", \"county_name\": \"San Diego\", \"county_fips\": 6073, \"region_name\": \"San Diego\", \"region_code\": 9, \"pop_trans_acc\": 119405, \"pop2010\": 328058, \"p_trans_acc\": 0.363975273, \"LL_95CI\": 0.362328803, \"UL_95CI\": 0.365621742, \"se\": 0.000840035, \"rse\": 0.230794653}, {\"year\": 2012, \"race_eth_code\": 3, \"race_eth_name\": \"AfricanAm\", \"geotype\": \"CO\", \"geotypevalue\": 6073, \"geoname\": \"San Diego\", \"county_name\": \"San Diego\", \"county_fips\": 6073, \"region_name\": \"San Diego\", \"region_code\": 9, \"pop_trans_acc\": 72630, \"pop2010\": 146600, \"p_trans_acc\": 0.495429741, \"LL_95CI\": 0.492870324, \"UL_95CI\": 0.497989157, \"se\": 0.001305825, \"rse\": 0.263574142}, {\"year\": 2012, \"race_eth_code\": 4, \"race_eth_name\": \"Latino\", \"geotype\": \"CO\", \"geotypevalue\": 6073, \"geoname\": \"San Diego\", \"county_name\": \"San Diego\", \"county_fips\": 6073, \"region_name\": \"San Diego\", \"region_code\": 9, \"pop_trans_acc\": 498409, \"pop2010\": 991348, \"p_trans_acc\": 0.50275887, \"LL_95CI\": 0.501774618, \"UL_95CI\": 0.503743122, \"se\": 0.000502169, \"rse\": 0.100991141}, {\"year\": 2012, \"race_eth_code\": 5, \"race_eth_name\": \"NHOPI\", \"geotype\": \"CO\", \"geotypevalue\": 6073, \"geoname\": \"San Diego\", \"county_name\": \"San Diego\", \"county_fips\": 6073, \"region_name\": \"San Diego\", \"region_code\": 9, \"pop_trans_acc\": 5101, \"pop2010\": 13504, \"p_trans_acc\": 0.377739929, \"LL_95CI\": 0.369562679, \"UL_95CI\": 0.385917179, \"se\": 0.004172066, \"rse\": 1.104481143}, {\"year\": 2012, \"race_eth_code\": 6, \"race_eth_name\": \"White\", \"geotype\": \"CO\", \"geotypevalue\": 6073, \"geoname\": \"San Diego\", \"county_name\": \"San Diego\", \"county_fips\": 6073, \"region_name\": \"San Diego\", \"region_code\": 9, \"pop_trans_acc\": 368415, \"pop2010\": 1500047, \"p_trans_acc\": 0.245602304, \"LL_95CI\": 0.244913462, \"UL_95CI\": 0.246291147, \"se\": 0.00035145, \"rse\": 0.143097328}, {\"year\": 2012, \"race_eth_code\": 7, \"race_eth_name\": \"Multiple\", \"geotype\": \"CO\", \"geotypevalue\": 6073, \"geoname\": \"San Diego\", \"county_name\": \"San Diego\", \"county_fips\": 6073, \"region_name\": \"San Diego\", \"region_code\": 9, \"pop_trans_acc\": 29168, \"pop2010\": 94943, \"p_trans_acc\": 0.307215908, \"LL_95CI\": 0.304281332, \"UL_95CI\": 0.310150485, \"se\": 0.001497233, \"rse\": 0.487355226}, {\"year\": 2012, \"race_eth_code\": 8, \"race_eth_name\": \"Other\", \"geotype\": \"CO\", \"geotypevalue\": 6073, \"geoname\": \"San Diego\", \"county_name\": \"San Diego\", \"county_fips\": 6073, \"region_name\": \"San Diego\", \"region_code\": 9, \"pop_trans_acc\": 2347, \"pop2010\": 6715, \"p_trans_acc\": 0.349516009, \"LL_95CI\": 0.338111282, \"UL_95CI\": 0.360920736, \"se\": 0.005818738, \"rse\": 1.664798828}, {\"year\": 2012, \"race_eth_code\": 9, \"race_eth_name\": \"Total\", \"geotype\": \"CO\", \"geotypevalue\": 6073, \"geoname\": \"San Diego\", \"county_name\": \"San Diego\", \"county_fips\": 6073, \"region_name\": \"San Diego\", \"region_code\": 9, \"pop_trans_acc\": 1098667, \"pop2010\": 3095313, \"p_trans_acc\": 0.354945364, \"LL_95CI\": 0.354412296, \"UL_95CI\": 0.355478432, \"se\": 0.000271974, \"rse\": 0.076624069}, {\"year\": 2012, \"race_eth_code\": 1, \"race_eth_name\": \"AIAN\", \"geotype\": \"RE\", \"geotypevalue\": 14, \"geoname\": \"Southern California\", \"county_name\": null, \"county_fips\": null, \"region_name\": \"Southern California\", \"region_code\": 14, \"pop_trans_acc\": 11745, \"pop2010\": 48587, \"p_trans_acc\": 0.241731327, \"LL_95CI\": 0.237924405, \"UL_95CI\": 0.24553825, \"se\": 0.001942307, \"rse\": 0.803498456}, {\"year\": 2012, \"race_eth_code\": 2, \"race_eth_name\": \"Asian\", \"geotype\": \"RE\", \"geotypevalue\": 14, \"geoname\": \"Southern California\", \"county_name\": null, \"county_fips\": null, \"region_name\": \"Southern California\", \"region_code\": 14, \"pop_trans_acc\": 815485, \"pop2010\": 2164347, \"p_trans_acc\": 0.37678108, \"LL_95CI\": 0.376135489, \"UL_95CI\": 0.377426671, \"se\": 0.000329383, \"rse\": 0.087420307}, {\"year\": 2012, \"race_eth_code\": 3, \"race_eth_name\": \"AfricanAm\", \"geotype\": \"RE\", \"geotypevalue\": 14, \"geoname\": \"Southern California\", \"county_name\": null, \"county_fips\": null, \"region_name\": \"Southern California\", \"region_code\": 14, \"pop_trans_acc\": 560147, \"pop2010\": 1178805, \"p_trans_acc\": 0.47518207, \"LL_95CI\": 0.474280562, \"UL_95CI\": 0.476083578, \"se\": 0.000459953, \"rse\": 0.096795089}, {\"year\": 2012, \"race_eth_code\": 4, \"race_eth_name\": \"Latino\", \"geotype\": \"RE\", \"geotypevalue\": 14, \"geoname\": \"Southern California\", \"county_name\": null, \"county_fips\": null, \"region_name\": \"Southern California\", \"region_code\": 14, \"pop_trans_acc\": 3324031, \"pop2010\": 8169102, \"p_trans_acc\": 0.406902864, \"LL_95CI\": 0.406565982, \"UL_95CI\": 0.407239746, \"se\": 0.000171878, \"rse\": 0.042240629}, {\"year\": 2012, \"race_eth_code\": 5, \"race_eth_name\": \"NHOPI\", \"geotype\": \"RE\", \"geotypevalue\": 14, \"geoname\": \"Southern California\", \"county_name\": null, \"county_fips\": null, \"region_name\": \"Southern California\", \"region_code\": 14, \"pop_trans_acc\": 14864, \"pop2010\": 43955, \"p_trans_acc\": 0.338164031, \"LL_95CI\": 0.333741297, \"UL_95CI\": 0.342586765, \"se\": 0.002256497, \"rse\": 0.667278811}, {\"year\": 2012, \"race_eth_code\": 6, \"race_eth_name\": \"White\", \"geotype\": \"RE\", \"geotypevalue\": 14, \"geoname\": \"Southern California\", \"county_name\": null, \"county_fips\": null, \"region_name\": \"Southern California\", \"region_code\": 14, \"pop_trans_acc\": 1490980, \"pop2010\": 6028281, \"p_trans_acc\": 0.247330873, \"LL_95CI\": 0.246986443, \"UL_95CI\": 0.247675302, \"se\": 0.000175729, \"rse\": 0.071050337}, {\"year\": 2012, \"race_eth_code\": 7, \"race_eth_name\": \"Multiple\", \"geotype\": \"RE\", \"geotypevalue\": 14, \"geoname\": \"Southern California\", \"county_name\": null, \"county_fips\": null, \"region_name\": \"Southern California\", \"region_code\": 14, \"pop_trans_acc\": 116421, \"pop2010\": 378200, \"p_trans_acc\": 0.307829191, \"LL_95CI\": 0.306358041, \"UL_95CI\": 0.309300341, \"se\": 0.000750587, \"rse\": 0.243832155}, {\"year\": 2012, \"race_eth_code\": 8, \"race_eth_name\": \"Other\", \"geotype\": \"RE\", \"geotypevalue\": 14, \"geoname\": \"Southern California\", \"county_name\": null, \"county_fips\": null, \"region_name\": \"Southern California\", \"region_code\": 14, \"pop_trans_acc\": 16987, \"pop2010\": 40257, \"p_trans_acc\": 0.421963882, \"LL_95CI\": 0.417139402, \"UL_95CI\": 0.426788362, \"se\": 0.002461469, \"rse\": 0.58333649}, {\"year\": 2012, \"race_eth_code\": 9, \"race_eth_name\": \"Total\", \"geotype\": \"RE\", \"geotypevalue\": 14, \"geoname\": \"Southern California\", \"county_name\": null, \"county_fips\": null, \"region_name\": \"Southern California\", \"region_code\": 14, \"pop_trans_acc\": 6350660, \"pop2010\": 18051534, \"p_trans_acc\": 0.35180722, \"LL_95CI\": 0.351586926, \"UL_95CI\": 0.352027515, \"se\": 0.000112395, \"rse\": 0.031947926}]}}, {\"mode\": \"vega-lite\"});\n",
       "</script>"
      ],
      "text/plain": [
       "alt.FacetChart(...)"
      ]
     },
     "execution_count": 29,
     "metadata": {},
     "output_type": "execute_result"
    }
   ],
   "source": [
    "alt.Chart(data_region).mark_bar().encode(\n",
    "    x = alt.X('race_eth_name', title = ''), \n",
    "    y = alt.Y('mean(p_trans_acc)', scale=alt.Scale(domain=[0, 0.8]), title = 'Mean % Public Transportation Access')\n",
    ").properties(width = 200, height = 250).facet(column = 'region_name') "
   ]
  },
  {
   "attachments": {},
   "cell_type": "markdown",
   "metadata": {},
   "source": [
    "The bar charts compare the mean percentage of residents that live within 1/2 mile of public transportation across different race/ethnicity groups. It also separates each bar chart accoding to the different region and shows that region is a more significant indicator in access to public transportation, compared to race/ethnicity; however, differences are still present between each race/ethnicity."
   ]
  },
  {
   "attachments": {},
   "cell_type": "markdown",
   "metadata": {},
   "source": [
    "**(b) Population's relationship with access to public transportation**"
   ]
  },
  {
   "cell_type": "code",
   "execution_count": 30,
   "metadata": {},
   "outputs": [
    {
     "data": {
      "text/html": [
       "\n",
       "<div id=\"altair-viz-fae2fd0062304d35883338e459da110a\"></div>\n",
       "<script type=\"text/javascript\">\n",
       "  var VEGA_DEBUG = (typeof VEGA_DEBUG == \"undefined\") ? {} : VEGA_DEBUG;\n",
       "  (function(spec, embedOpt){\n",
       "    let outputDiv = document.currentScript.previousElementSibling;\n",
       "    if (outputDiv.id !== \"altair-viz-fae2fd0062304d35883338e459da110a\") {\n",
       "      outputDiv = document.getElementById(\"altair-viz-fae2fd0062304d35883338e459da110a\");\n",
       "    }\n",
       "    const paths = {\n",
       "      \"vega\": \"https://cdn.jsdelivr.net/npm//vega@5?noext\",\n",
       "      \"vega-lib\": \"https://cdn.jsdelivr.net/npm//vega-lib?noext\",\n",
       "      \"vega-lite\": \"https://cdn.jsdelivr.net/npm//vega-lite@4.17.0?noext\",\n",
       "      \"vega-embed\": \"https://cdn.jsdelivr.net/npm//vega-embed@6?noext\",\n",
       "    };\n",
       "\n",
       "    function maybeLoadScript(lib, version) {\n",
       "      var key = `${lib.replace(\"-\", \"\")}_version`;\n",
       "      return (VEGA_DEBUG[key] == version) ?\n",
       "        Promise.resolve(paths[lib]) :\n",
       "        new Promise(function(resolve, reject) {\n",
       "          var s = document.createElement('script');\n",
       "          document.getElementsByTagName(\"head\")[0].appendChild(s);\n",
       "          s.async = true;\n",
       "          s.onload = () => {\n",
       "            VEGA_DEBUG[key] = version;\n",
       "            return resolve(paths[lib]);\n",
       "          };\n",
       "          s.onerror = () => reject(`Error loading script: ${paths[lib]}`);\n",
       "          s.src = paths[lib];\n",
       "        });\n",
       "    }\n",
       "\n",
       "    function showError(err) {\n",
       "      outputDiv.innerHTML = `<div class=\"error\" style=\"color:red;\">${err}</div>`;\n",
       "      throw err;\n",
       "    }\n",
       "\n",
       "    function displayChart(vegaEmbed) {\n",
       "      vegaEmbed(outputDiv, spec, embedOpt)\n",
       "        .catch(err => showError(`Javascript Error: ${err.message}<br>This usually means there's a typo in your chart specification. See the javascript console for the full traceback.`));\n",
       "    }\n",
       "\n",
       "    if(typeof define === \"function\" && define.amd) {\n",
       "      requirejs.config({paths});\n",
       "      require([\"vega-embed\"], displayChart, err => showError(`Error loading script: ${err.message}`));\n",
       "    } else {\n",
       "      maybeLoadScript(\"vega\", \"5\")\n",
       "        .then(() => maybeLoadScript(\"vega-lite\", \"4.17.0\"))\n",
       "        .then(() => maybeLoadScript(\"vega-embed\", \"6\"))\n",
       "        .catch(showError)\n",
       "        .then(() => displayChart(vegaEmbed));\n",
       "    }\n",
       "  })({\"config\": {\"view\": {\"continuousWidth\": 400, \"continuousHeight\": 300}}, \"data\": {\"name\": \"data-4e08c41be4e317d7b73c9764953eb97b\"}, \"facet\": {\"column\": {\"field\": \"region_name\", \"type\": \"nominal\"}}, \"spec\": {\"mark\": \"point\", \"encoding\": {\"x\": {\"field\": \"pop2010\", \"scale\": {\"exponent\": 0.25, \"type\": \"pow\", \"zero\": false}, \"title\": \"2010 County Population\", \"type\": \"quantitative\"}, \"y\": {\"aggregate\": \"mean\", \"field\": \"p_trans_acc\", \"title\": \"Mean % Public Transportation Access\", \"type\": \"quantitative\"}}, \"height\": 250, \"width\": 200}, \"$schema\": \"https://vega.github.io/schema/vega-lite/v4.17.0.json\", \"datasets\": {\"data-4e08c41be4e317d7b73c9764953eb97b\": [{\"year\": 2008, \"race_eth_code\": 3, \"race_eth_name\": \"AfricanAm\", \"geotype\": \"CO\", \"geotypevalue\": 6061, \"geoname\": \"Placer\", \"county_name\": \"Placer\", \"county_fips\": 6061, \"region_name\": \"Sacramento Area\", \"region_code\": 8, \"pop_trans_acc\": 55, \"pop2010\": 4427, \"p_trans_acc\": 0.012423763, \"LL_95CI\": 0.009160792, \"UL_95CI\": 0.015686734, \"se\": 0.001664781, \"rse\": 13.39997447}, {\"year\": 2008, \"race_eth_code\": 1, \"race_eth_name\": \"AIAN\", \"geotype\": \"CO\", \"geotypevalue\": 6061, \"geoname\": \"Placer\", \"county_name\": \"Placer\", \"county_fips\": 6061, \"region_name\": \"Sacramento Area\", \"region_code\": 8, \"pop_trans_acc\": 51, \"pop2010\": 2080, \"p_trans_acc\": 0.024519231, \"LL_95CI\": 0.01787282, \"UL_95CI\": 0.031165642, \"se\": 0.003391026, \"rse\": 13.83006649}, {\"year\": 2008, \"race_eth_code\": 2, \"race_eth_name\": \"Asian\", \"geotype\": \"CO\", \"geotypevalue\": 6061, \"geoname\": \"Placer\", \"county_name\": \"Placer\", \"county_fips\": 6061, \"region_name\": \"Sacramento Area\", \"region_code\": 8, \"pop_trans_acc\": 117, \"pop2010\": 19963, \"p_trans_acc\": 0.005860843, \"LL_95CI\": 0.004801962, \"UL_95CI\": 0.006919723, \"se\": 0.000540245, \"rse\": 9.217871704}, {\"year\": 2008, \"race_eth_code\": 4, \"race_eth_name\": \"Latino\", \"geotype\": \"CO\", \"geotypevalue\": 6061, \"geoname\": \"Placer\", \"county_name\": \"Placer\", \"county_fips\": 6061, \"region_name\": \"Sacramento Area\", \"region_code\": 8, \"pop_trans_acc\": 1835, \"pop2010\": 44710, \"p_trans_acc\": 0.041042272, \"LL_95CI\": 0.039203326, \"UL_95CI\": 0.042881219, \"se\": 0.000938238, \"rse\": 2.286028799}, {\"year\": 2008, \"race_eth_code\": 7, \"race_eth_name\": \"Multiple\", \"geotype\": \"CO\", \"geotypevalue\": 6061, \"geoname\": \"Placer\", \"county_name\": \"Placer\", \"county_fips\": 6061, \"region_name\": \"Sacramento Area\", \"region_code\": 8, \"pop_trans_acc\": 241, \"pop2010\": 10658, \"p_trans_acc\": 0.022612122, \"LL_95CI\": 0.019789698, \"UL_95CI\": 0.025434547, \"se\": 0.001440013, \"rse\": 6.368321097}, {\"year\": 2008, \"race_eth_code\": 5, \"race_eth_name\": \"NHOPI\", \"geotype\": \"CO\", \"geotypevalue\": 6061, \"geoname\": \"Placer\", \"county_name\": \"Placer\", \"county_fips\": 6061, \"region_name\": \"Sacramento Area\", \"region_code\": 8, \"pop_trans_acc\": 17, \"pop2010\": 697, \"p_trans_acc\": 0.024390244, \"LL_95CI\": 0.012938126, \"UL_95CI\": 0.035842362, \"se\": 0.005842917, \"rse\": 23.95596151}, {\"year\": 2008, \"race_eth_code\": 8, \"race_eth_name\": \"Other\", \"geotype\": \"CO\", \"geotypevalue\": 6061, \"geoname\": \"Placer\", \"county_name\": \"Placer\", \"county_fips\": 6061, \"region_name\": \"Sacramento Area\", \"region_code\": 8, \"pop_trans_acc\": 11, \"pop2010\": 603, \"p_trans_acc\": 0.018242123, \"LL_95CI\": 0.007560498, \"UL_95CI\": 0.028923747, \"se\": 0.005449808, \"rse\": 29.87485835}, {\"year\": 2008, \"race_eth_code\": 9, \"race_eth_name\": \"Total\", \"geotype\": \"CO\", \"geotypevalue\": 6061, \"geoname\": \"Placer\", \"county_name\": \"Placer\", \"county_fips\": 6061, \"region_name\": \"Sacramento Area\", \"region_code\": 8, \"pop_trans_acc\": 7357, \"pop2010\": 348432, \"p_trans_acc\": 0.021114593, \"LL_95CI\": 0.020637224, \"UL_95CI\": 0.021591963, \"se\": 0.000243556, \"rse\": 1.153494556}, {\"year\": 2008, \"race_eth_code\": 6, \"race_eth_name\": \"White\", \"geotype\": \"CO\", \"geotypevalue\": 6061, \"geoname\": \"Placer\", \"county_name\": \"Placer\", \"county_fips\": 6061, \"region_name\": \"Sacramento Area\", \"region_code\": 8, \"pop_trans_acc\": 5030, \"pop2010\": 265294, \"p_trans_acc\": 0.018960097, \"LL_95CI\": 0.018441111, \"UL_95CI\": 0.019479083, \"se\": 0.000264789, \"rse\": 1.396559179}, {\"year\": 2008, \"race_eth_code\": 3, \"race_eth_name\": \"AfricanAm\", \"geotype\": \"CO\", \"geotypevalue\": 6067, \"geoname\": \"Sacramento\", \"county_name\": \"Sacramento\", \"county_fips\": 6067, \"region_name\": \"Sacramento Area\", \"region_code\": 8, \"pop_trans_acc\": 30635, \"pop2010\": 142628, \"p_trans_acc\": 0.214789522, \"LL_95CI\": 0.21265818, \"UL_95CI\": 0.216920865, \"se\": 0.00108742, \"rse\": 0.506272224}, {\"year\": 2008, \"race_eth_code\": 1, \"race_eth_name\": \"AIAN\", \"geotype\": \"CO\", \"geotypevalue\": 6067, \"geoname\": \"Sacramento\", \"county_name\": \"Sacramento\", \"county_fips\": 6067, \"region_name\": \"Sacramento Area\", \"region_code\": 8, \"pop_trans_acc\": 1922, \"pop2010\": 8096, \"p_trans_acc\": 0.237401186, \"LL_95CI\": 0.228132667, \"UL_95CI\": 0.246669704, \"se\": 0.004728836, \"rse\": 1.99191761}, {\"year\": 2008, \"race_eth_code\": 2, \"race_eth_name\": \"Asian\", \"geotype\": \"CO\", \"geotypevalue\": 6067, \"geoname\": \"Sacramento\", \"county_name\": \"Sacramento\", \"county_fips\": 6067, \"region_name\": \"Sacramento Area\", \"region_code\": 8, \"pop_trans_acc\": 35668, \"pop2010\": 203158, \"p_trans_acc\": 0.175567785, \"LL_95CI\": 0.17391339, \"UL_95CI\": 0.177222179, \"se\": 0.000844079, \"rse\": 0.480770817}, {\"year\": 2008, \"race_eth_code\": 4, \"race_eth_name\": \"Latino\", \"geotype\": \"CO\", \"geotypevalue\": 6067, \"geoname\": \"Sacramento\", \"county_name\": \"Sacramento\", \"county_fips\": 6067, \"region_name\": \"Sacramento Area\", \"region_code\": 8, \"pop_trans_acc\": 68061, \"pop2010\": 311958, \"p_trans_acc\": 0.2181736, \"LL_95CI\": 0.21672428, \"UL_95CI\": 0.21962292, \"se\": 0.000739449, \"rse\": 0.338926871}, {\"year\": 2008, \"race_eth_code\": 7, \"race_eth_name\": \"Multiple\", \"geotype\": \"CO\", \"geotypevalue\": 6067, \"geoname\": \"Sacramento\", \"county_name\": \"Sacramento\", \"county_fips\": 6067, \"region_name\": \"Sacramento Area\", \"region_code\": 8, \"pop_trans_acc\": 11827, \"pop2010\": 63402, \"p_trans_acc\": 0.186539857, \"LL_95CI\": 0.183507652, \"UL_95CI\": 0.189572062, \"se\": 0.001547043, \"rse\": 0.829336617}, {\"year\": 2008, \"race_eth_code\": 5, \"race_eth_name\": \"NHOPI\", \"geotype\": \"CO\", \"geotypevalue\": 6067, \"geoname\": \"Sacramento\", \"county_name\": \"Sacramento\", \"county_fips\": 6067, \"region_name\": \"Sacramento Area\", \"region_code\": 8, \"pop_trans_acc\": 2361, \"pop2010\": 13254, \"p_trans_acc\": 0.178134903, \"LL_95CI\": 0.171620758, \"UL_95CI\": 0.184649047, \"se\": 0.003323543, \"rse\": 1.865744952}, {\"year\": 2008, \"race_eth_code\": 8, \"race_eth_name\": \"Other\", \"geotype\": \"CO\", \"geotypevalue\": 6067, \"geoname\": \"Sacramento\", \"county_name\": \"Sacramento\", \"county_fips\": 6067, \"region_name\": \"Sacramento Area\", \"region_code\": 8, \"pop_trans_acc\": 714, \"pop2010\": 3530, \"p_trans_acc\": 0.202266289, \"LL_95CI\": 0.18901496, \"UL_95CI\": 0.215517618, \"se\": 0.006760882, \"rse\": 3.342565041}, {\"year\": 2008, \"race_eth_code\": 9, \"race_eth_name\": \"Total\", \"geotype\": \"CO\", \"geotypevalue\": 6067, \"geoname\": \"Sacramento\", \"county_name\": \"Sacramento\", \"county_fips\": 6067, \"region_name\": \"Sacramento Area\", \"region_code\": 8, \"pop_trans_acc\": 272826, \"pop2010\": 1446296, \"p_trans_acc\": 0.188637734, \"LL_95CI\": 0.188000133, \"UL_95CI\": 0.189275335, \"se\": 0.000325307, \"rse\": 0.172450527}, {\"year\": 2008, \"race_eth_code\": 6, \"race_eth_name\": \"White\", \"geotype\": \"CO\", \"geotypevalue\": 6067, \"geoname\": \"Sacramento\", \"county_name\": \"Sacramento\", \"county_fips\": 6067, \"region_name\": \"Sacramento Area\", \"region_code\": 8, \"pop_trans_acc\": 121638, \"pop2010\": 700270, \"p_trans_acc\": 0.173701572, \"LL_95CI\": 0.172814225, \"UL_95CI\": 0.17458892, \"se\": 0.000452728, \"rse\": 0.260635655}, {\"year\": 2008, \"race_eth_code\": 3, \"race_eth_name\": \"AfricanAm\", \"geotype\": \"CO\", \"geotypevalue\": 6113, \"geoname\": \"Yolo\", \"county_name\": \"Yolo\", \"county_fips\": 6113, \"region_name\": \"Sacramento Area\", \"region_code\": 8, \"pop_trans_acc\": 1587, \"pop2010\": 4827, \"p_trans_acc\": 0.328775637, \"LL_95CI\": 0.315523037, \"UL_95CI\": 0.342028237, \"se\": 0.006761531, \"rse\": 2.056578979}, {\"year\": 2008, \"race_eth_code\": 1, \"race_eth_name\": \"AIAN\", \"geotype\": \"CO\", \"geotypevalue\": 6113, \"geoname\": \"Yolo\", \"county_name\": \"Yolo\", \"county_fips\": 6113, \"region_name\": \"Sacramento Area\", \"region_code\": 8, \"pop_trans_acc\": 188, \"pop2010\": 1110, \"p_trans_acc\": 0.169369369, \"LL_95CI\": 0.147303757, \"UL_95CI\": 0.191434982, \"se\": 0.011257966, \"rse\": 6.646990323}, {\"year\": 2008, \"race_eth_code\": 2, \"race_eth_name\": \"Asian\", \"geotype\": \"CO\", \"geotypevalue\": 6113, \"geoname\": \"Yolo\", \"county_name\": \"Yolo\", \"county_fips\": 6113, \"region_name\": \"Sacramento Area\", \"region_code\": 8, \"pop_trans_acc\": 16915, \"pop2010\": 26524, \"p_trans_acc\": 0.637724325, \"LL_95CI\": 0.631939734, \"UL_95CI\": 0.643508916, \"se\": 0.002951322, \"rse\": 0.814661879}, {\"year\": 2008, \"race_eth_code\": 4, \"race_eth_name\": \"Latino\", \"geotype\": \"CO\", \"geotypevalue\": 6113, \"geoname\": \"Yolo\", \"county_name\": \"Yolo\", \"county_fips\": 6113, \"region_name\": \"Sacramento Area\", \"region_code\": 8, \"pop_trans_acc\": 9210, \"pop2010\": 61488, \"p_trans_acc\": 0.149785324, \"LL_95CI\": 0.146964605, \"UL_95CI\": 0.152606043, \"se\": 0.001439142, \"rse\": 0.960803294}, {\"year\": 2008, \"race_eth_code\": 7, \"race_eth_name\": \"Multiple\", \"geotype\": \"CO\", \"geotypevalue\": 6113, \"geoname\": \"Yolo\", \"county_name\": \"Yolo\", \"county_fips\": 6113, \"region_name\": \"Sacramento Area\", \"region_code\": 8, \"pop_trans_acc\": 3020, \"pop2010\": 7055, \"p_trans_acc\": 0.428065202, \"LL_95CI\": 0.416519089, \"UL_95CI\": 0.439611314, \"se\": 0.005890874, \"rse\": 1.376162721}, {\"year\": 2008, \"race_eth_code\": 5, \"race_eth_name\": \"NHOPI\", \"geotype\": \"CO\", \"geotypevalue\": 6113, \"geoname\": \"Yolo\", \"county_name\": \"Yolo\", \"county_fips\": 6113, \"region_name\": \"Sacramento Area\", \"region_code\": 8, \"pop_trans_acc\": 139, \"pop2010\": 829, \"p_trans_acc\": 0.167671894, \"LL_95CI\": 0.142241316, \"UL_95CI\": 0.193102471, \"se\": 0.012974784, \"rse\": 7.738198748}, {\"year\": 2008, \"race_eth_code\": 8, \"race_eth_name\": \"Other\", \"geotype\": \"CO\", \"geotypevalue\": 6113, \"geoname\": \"Yolo\", \"county_name\": \"Yolo\", \"county_fips\": 6113, \"region_name\": \"Sacramento Area\", \"region_code\": 8, \"pop_trans_acc\": 203, \"pop2010\": 453, \"p_trans_acc\": 0.44812362, \"LL_95CI\": 0.4023277, \"UL_95CI\": 0.493919541, \"se\": 0.023365265, \"rse\": 5.214022301}, {\"year\": 2008, \"race_eth_code\": 9, \"race_eth_name\": \"Total\", \"geotype\": \"CO\", \"geotypevalue\": 6113, \"geoname\": \"Yolo\", \"county_name\": \"Yolo\", \"county_fips\": 6113, \"region_name\": \"Sacramento Area\", \"region_code\": 8, \"pop_trans_acc\": 72334, \"pop2010\": 204542, \"p_trans_acc\": 0.353638861, \"LL_95CI\": 0.351566896, \"UL_95CI\": 0.355710827, \"se\": 0.001057125, \"rse\": 0.298927849}, {\"year\": 2008, \"race_eth_code\": 6, \"race_eth_name\": \"White\", \"geotype\": \"CO\", \"geotypevalue\": 6113, \"geoname\": \"Yolo\", \"county_name\": \"Yolo\", \"county_fips\": 6113, \"region_name\": \"Sacramento Area\", \"region_code\": 8, \"pop_trans_acc\": 41072, \"pop2010\": 102256, \"p_trans_acc\": 0.401658582, \"LL_95CI\": 0.398653788, \"UL_95CI\": 0.404663377, \"se\": 0.001533058, \"rse\": 0.381681937}, {\"year\": 2012, \"race_eth_code\": 1, \"race_eth_name\": \"AIAN\", \"geotype\": \"CO\", \"geotypevalue\": 6001, \"geoname\": \"Alameda\", \"county_name\": \"Alameda\", \"county_fips\": 6001, \"region_name\": \"Bay Area\", \"region_code\": 1, \"pop_trans_acc\": 2771, \"pop2010\": 4189, \"p_trans_acc\": 0.66149439, \"LL_95CI\": 0.647164366, \"UL_95CI\": 0.675824414, \"se\": 0.007311237, \"rse\": 2.159856846}, {\"year\": 2012, \"race_eth_code\": 1, \"race_eth_name\": \"AIAN\", \"geotype\": \"CO\", \"geotypevalue\": 6013, \"geoname\": \"Contra Costa\", \"county_name\": \"Contra Costa\", \"county_fips\": 6013, \"region_name\": \"Bay Area\", \"region_code\": 1, \"pop_trans_acc\": 1170, \"pop2010\": 2984, \"p_trans_acc\": 0.392091153, \"LL_95CI\": 0.374573762, \"UL_95CI\": 0.409608543, \"se\": 0.008937444, \"rse\": 2.279430217}, {\"year\": 2012, \"race_eth_code\": 1, \"race_eth_name\": \"AIAN\", \"geotype\": \"CO\", \"geotypevalue\": 6041, \"geoname\": \"Marin\", \"county_name\": \"Marin\", \"county_fips\": 6041, \"region_name\": \"Bay Area\", \"region_code\": 1, \"pop_trans_acc\": 209, \"pop2010\": 531, \"p_trans_acc\": 0.393596987, \"LL_95CI\": 0.352042744, \"UL_95CI\": 0.435151229, \"se\": 0.021201144, \"rse\": 5.386510767}, {\"year\": 2012, \"race_eth_code\": 1, \"race_eth_name\": \"AIAN\", \"geotype\": \"CO\", \"geotypevalue\": 6055, \"geoname\": \"Napa\", \"county_name\": \"Napa\", \"county_fips\": 6055, \"region_name\": \"Bay Area\", \"region_code\": 1, \"pop_trans_acc\": 36, \"pop2010\": 544, \"p_trans_acc\": 0.066176471, \"LL_95CI\": 0.045286356, \"UL_95CI\": 0.087066585, \"se\": 0.010658222, \"rse\": 16.10575751}, {\"year\": 2012, \"race_eth_code\": 1, \"race_eth_name\": \"AIAN\", \"geotype\": \"CO\", \"geotypevalue\": 6075, \"geoname\": \"San Francisco\", \"county_name\": \"San Francisco\", \"county_fips\": 6075, \"region_name\": \"Bay Area\", \"region_code\": 1, \"pop_trans_acc\": 1812, \"pop2010\": 1828, \"p_trans_acc\": 0.991247265, \"LL_95CI\": 0.986977235, \"UL_95CI\": 0.995517294, \"se\": 0.002178586, \"rse\": 24.89035035}, {\"year\": 2012, \"race_eth_code\": 1, \"race_eth_name\": \"AIAN\", \"geotype\": \"CO\", \"geotypevalue\": 6081, \"geoname\": \"San Mateo\", \"county_name\": \"San Mateo\", \"county_fips\": 6081, \"region_name\": \"Bay Area\", \"region_code\": 1, \"pop_trans_acc\": 633, \"pop2010\": 1125, \"p_trans_acc\": 0.562666667, \"LL_95CI\": 0.533679104, \"UL_95CI\": 0.591654229, \"se\": 0.014789573, \"rse\": 3.38176202}, {\"year\": 2012, \"race_eth_code\": 1, \"race_eth_name\": \"AIAN\", \"geotype\": \"CO\", \"geotypevalue\": 6085, \"geoname\": \"Santa Clara\", \"county_name\": \"Santa Clara\", \"county_fips\": 6085, \"region_name\": \"Bay Area\", \"region_code\": 1, \"pop_trans_acc\": 2740, \"pop2010\": 4042, \"p_trans_acc\": 0.677882237, \"LL_95CI\": 0.663476271, \"UL_95CI\": 0.692288202, \"se\": 0.007349983, \"rse\": 2.281768785}, {\"year\": 2012, \"race_eth_code\": 1, \"race_eth_name\": \"AIAN\", \"geotype\": \"CO\", \"geotypevalue\": 6095, \"geoname\": \"Solano\", \"county_name\": \"Solano\", \"county_fips\": 6095, \"region_name\": \"Bay Area\", \"region_code\": 1, \"pop_trans_acc\": 471, \"pop2010\": 1864, \"p_trans_acc\": 0.252682403, \"LL_95CI\": 0.23295485, \"UL_95CI\": 0.272409957, \"se\": 0.010065078, \"rse\": 3.98329206}, {\"year\": 2012, \"race_eth_code\": 1, \"race_eth_name\": \"AIAN\", \"geotype\": \"CO\", \"geotypevalue\": 6097, \"geoname\": \"Sonoma\", \"county_name\": \"Sonoma\", \"county_fips\": 6097, \"region_name\": \"Bay Area\", \"region_code\": 1, \"pop_trans_acc\": 860, \"pop2010\": 3584, \"p_trans_acc\": 0.239955357, \"LL_95CI\": 0.225973758, \"UL_95CI\": 0.253936956, \"se\": 0.007133469, \"rse\": 2.972831715}, {\"year\": 2012, \"race_eth_code\": 2, \"race_eth_name\": \"Asian\", \"geotype\": \"CO\", \"geotypevalue\": 6001, \"geoname\": \"Alameda\", \"county_name\": \"Alameda\", \"county_fips\": 6001, \"region_name\": \"Bay Area\", \"region_code\": 1, \"pop_trans_acc\": 237786, \"pop2010\": 390524, \"p_trans_acc\": 0.608889594, \"LL_95CI\": 0.607359032, \"UL_95CI\": 0.610420157, \"se\": 0.000780899, \"rse\": 0.199662142}, {\"year\": 2012, \"race_eth_code\": 2, \"race_eth_name\": \"Asian\", \"geotype\": \"CO\", \"geotypevalue\": 6013, \"geoname\": \"Contra Costa\", \"county_name\": \"Contra Costa\", \"county_fips\": 6013, \"region_name\": \"Bay Area\", \"region_code\": 1, \"pop_trans_acc\": 45996, \"pop2010\": 148881, \"p_trans_acc\": 0.308944728, \"LL_95CI\": 0.306597619, \"UL_95CI\": 0.311291836, \"se\": 0.001197504, \"rse\": 0.387611238}, {\"year\": 2012, \"race_eth_code\": 2, \"race_eth_name\": \"Asian\", \"geotype\": \"CO\", \"geotypevalue\": 6041, \"geoname\": \"Marin\", \"county_name\": \"Marin\", \"county_fips\": 6041, \"region_name\": \"Bay Area\", \"region_code\": 1, \"pop_trans_acc\": 6746, \"pop2010\": 13577, \"p_trans_acc\": 0.496869706, \"LL_95CI\": 0.488459325, \"UL_95CI\": 0.505280087, \"se\": 0.004291011, \"rse\": 0.863608812}, {\"year\": 2012, \"race_eth_code\": 2, \"race_eth_name\": \"Asian\", \"geotype\": \"CO\", \"geotypevalue\": 6055, \"geoname\": \"Napa\", \"county_name\": \"Napa\", \"county_fips\": 6055, \"region_name\": \"Bay Area\", \"region_code\": 1, \"pop_trans_acc\": 93, \"pop2010\": 8986, \"p_trans_acc\": 0.010349432, \"LL_95CI\": 0.008256901, \"UL_95CI\": 0.012441964, \"se\": 0.001067618, \"rse\": 10.31571808}, {\"year\": 2012, \"race_eth_code\": 2, \"race_eth_name\": \"Asian\", \"geotype\": \"CO\", \"geotypevalue\": 6075, \"geoname\": \"San Francisco\", \"county_name\": \"San Francisco\", \"county_fips\": 6075, \"region_name\": \"Bay Area\", \"region_code\": 1, \"pop_trans_acc\": 264929, \"pop2010\": 265700, \"p_trans_acc\": 0.997098231, \"LL_95CI\": 0.996893699, \"UL_95CI\": 0.997302763, \"se\": 0.000104353, \"rse\": 3.596183001}, {\"year\": 2012, \"race_eth_code\": 2, \"race_eth_name\": \"Asian\", \"geotype\": \"CO\", \"geotypevalue\": 6081, \"geoname\": \"San Mateo\", \"county_name\": \"San Mateo\", \"county_fips\": 6081, \"region_name\": \"Bay Area\", \"region_code\": 1, \"pop_trans_acc\": 115444, \"pop2010\": 175934, \"p_trans_acc\": 0.656177885, \"LL_95CI\": 0.653958366, \"UL_95CI\": 0.658397404, \"se\": 0.001132408, \"rse\": 0.329358596}, {\"year\": 2012, \"race_eth_code\": 2, \"race_eth_name\": \"Asian\", \"geotype\": \"CO\", \"geotypevalue\": 6085, \"geoname\": \"Santa Clara\", \"county_name\": \"Santa Clara\", \"county_fips\": 6085, \"region_name\": \"Bay Area\", \"region_code\": 1, \"pop_trans_acc\": 370505, \"pop2010\": 565466, \"p_trans_acc\": 0.65522065, \"LL_95CI\": 0.653981804, \"UL_95CI\": 0.656459496, \"se\": 0.000632064, \"rse\": 0.18332425}, {\"year\": 2012, \"race_eth_code\": 2, \"race_eth_name\": \"Asian\", \"geotype\": \"CO\", \"geotypevalue\": 6095, \"geoname\": \"Solano\", \"county_name\": \"Solano\", \"county_fips\": 6095, \"region_name\": \"Bay Area\", \"region_code\": 1, \"pop_trans_acc\": 7549, \"pop2010\": 59027, \"p_trans_acc\": 0.127890626, \"LL_95CI\": 0.125196391, \"UL_95CI\": 0.130584862, \"se\": 0.00137461, \"rse\": 1.074832437}, {\"year\": 2012, \"race_eth_code\": 2, \"race_eth_name\": \"Asian\", \"geotype\": \"CO\", \"geotypevalue\": 6097, \"geoname\": \"Sonoma\", \"county_name\": \"Sonoma\", \"county_fips\": 6097, \"region_name\": \"Bay Area\", \"region_code\": 1, \"pop_trans_acc\": 3639, \"pop2010\": 17777, \"p_trans_acc\": 0.204702706, \"LL_95CI\": 0.198771358, \"UL_95CI\": 0.210634053, \"se\": 0.003026198, \"rse\": 1.478337946}, {\"year\": 2012, \"race_eth_code\": 3, \"race_eth_name\": \"AfricanAm\", \"geotype\": \"CO\", \"geotypevalue\": 6001, \"geoname\": \"Alameda\", \"county_name\": \"Alameda\", \"county_fips\": 6001, \"region_name\": \"Bay Area\", \"region_code\": 1, \"pop_trans_acc\": 146189, \"pop2010\": 184126, \"p_trans_acc\": 0.793961744, \"LL_95CI\": 0.792114296, \"UL_95CI\": 0.795809192, \"se\": 0.000942576, \"rse\": 0.45747598}, {\"year\": 2012, \"race_eth_code\": 3, \"race_eth_name\": \"AfricanAm\", \"geotype\": \"CO\", \"geotypevalue\": 6013, \"geoname\": \"Contra Costa\", \"county_name\": \"Contra Costa\", \"county_fips\": 6013, \"region_name\": \"Bay Area\", \"region_code\": 1, \"pop_trans_acc\": 48915, \"pop2010\": 93604, \"p_trans_acc\": 0.522573822, \"LL_95CI\": 0.519373926, \"UL_95CI\": 0.525773717, \"se\": 0.0016326, \"rse\": 0.341958581}, {\"year\": 2012, \"race_eth_code\": 3, \"race_eth_name\": \"AfricanAm\", \"geotype\": \"CO\", \"geotypevalue\": 6041, \"geoname\": \"Marin\", \"county_name\": \"Marin\", \"county_fips\": 6041, \"region_name\": \"Bay Area\", \"region_code\": 1, \"pop_trans_acc\": 3063, \"pop2010\": 6621, \"p_trans_acc\": 0.46261894, \"LL_95CI\": 0.450608825, \"UL_95CI\": 0.474629055, \"se\": 0.00612761, \"rse\": 1.324547934}, {\"year\": 2012, \"race_eth_code\": 3, \"race_eth_name\": \"AfricanAm\", \"geotype\": \"CO\", \"geotypevalue\": 6055, \"geoname\": \"Napa\", \"county_name\": \"Napa\", \"county_fips\": 6055, \"region_name\": \"Bay Area\", \"region_code\": 1, \"pop_trans_acc\": 58, \"pop2010\": 2440, \"p_trans_acc\": 0.023770492, \"LL_95CI\": 0.01772605, \"UL_95CI\": 0.029814934, \"se\": 0.003083899, \"rse\": 12.97364376}, {\"year\": 2012, \"race_eth_code\": 3, \"race_eth_name\": \"AfricanAm\", \"geotype\": \"CO\", \"geotypevalue\": 6075, \"geoname\": \"San Francisco\", \"county_name\": \"San Francisco\", \"county_fips\": 6075, \"region_name\": \"Bay Area\", \"region_code\": 1, \"pop_trans_acc\": 46261, \"pop2010\": 46781, \"p_trans_acc\": 0.988884376, \"LL_95CI\": 0.987934294, \"UL_95CI\": 0.989834458, \"se\": 0.000484736, \"rse\": 4.360849371}, {\"year\": 2012, \"race_eth_code\": 3, \"race_eth_name\": \"AfricanAm\", \"geotype\": \"CO\", \"geotypevalue\": 6081, \"geoname\": \"San Mateo\", \"county_name\": \"San Mateo\", \"county_fips\": 6081, \"region_name\": \"Bay Area\", \"region_code\": 1, \"pop_trans_acc\": 11974, \"pop2010\": 18763, \"p_trans_acc\": 0.638170868, \"LL_95CI\": 0.631295037, \"UL_95CI\": 0.645046699, \"se\": 0.003508077, \"rse\": 0.969539669}, {\"year\": 2012, \"race_eth_code\": 3, \"race_eth_name\": \"AfricanAm\", \"geotype\": \"CO\", \"geotypevalue\": 6085, \"geoname\": \"Santa Clara\", \"county_name\": \"Santa Clara\", \"county_fips\": 6085, \"region_name\": \"Bay Area\", \"region_code\": 1, \"pop_trans_acc\": 31597, \"pop2010\": 42331, \"p_trans_acc\": 0.746426968, \"LL_95CI\": 0.74228247, \"UL_95CI\": 0.750571467, \"se\": 0.00211454, \"rse\": 0.833897872}, {\"year\": 2012, \"race_eth_code\": 3, \"race_eth_name\": \"AfricanAm\", \"geotype\": \"CO\", \"geotypevalue\": 6095, \"geoname\": \"Solano\", \"county_name\": \"Solano\", \"county_fips\": 6095, \"region_name\": \"Bay Area\", \"region_code\": 1, \"pop_trans_acc\": 13070, \"pop2010\": 58743, \"p_trans_acc\": 0.222494595, \"LL_95CI\": 0.21913111, \"UL_95CI\": 0.22585808, \"se\": 0.001716064, \"rse\": 0.771283276}, {\"year\": 2012, \"race_eth_code\": 3, \"race_eth_name\": \"AfricanAm\", \"geotype\": \"CO\", \"geotypevalue\": 6097, \"geoname\": \"Sonoma\", \"county_name\": \"Sonoma\", \"county_fips\": 6097, \"region_name\": \"Bay Area\", \"region_code\": 1, \"pop_trans_acc\": 1957, \"pop2010\": 6769, \"p_trans_acc\": 0.289112129, \"LL_95CI\": 0.278312035, \"UL_95CI\": 0.299912222, \"se\": 0.005510252, \"rse\": 1.905922072}, {\"year\": 2012, \"race_eth_code\": 4, \"race_eth_name\": \"Latino\", \"geotype\": \"CO\", \"geotypevalue\": 6001, \"geoname\": \"Alameda\", \"county_name\": \"Alameda\", \"county_fips\": 6001, \"region_name\": \"Bay Area\", \"region_code\": 1, \"pop_trans_acc\": 234491, \"pop2010\": 339889, \"p_trans_acc\": 0.689904645, \"LL_95CI\": 0.688349648, \"UL_95CI\": 0.691459643, \"se\": 0.000793366, \"rse\": 0.255845834}, {\"year\": 2012, \"race_eth_code\": 4, \"race_eth_name\": \"Latino\", \"geotype\": \"CO\", \"geotypevalue\": 6013, \"geoname\": \"Contra Costa\", \"county_name\": \"Contra Costa\", \"county_fips\": 6013, \"region_name\": \"Bay Area\", \"region_code\": 1, \"pop_trans_acc\": 115278, \"pop2010\": 255560, \"p_trans_acc\": 0.451079981, \"LL_95CI\": 0.44915072, \"UL_95CI\": 0.453009242, \"se\": 0.000984317, \"rse\": 0.218213351}, {\"year\": 2012, \"race_eth_code\": 4, \"race_eth_name\": \"Latino\", \"geotype\": \"CO\", \"geotypevalue\": 6041, \"geoname\": \"Marin\", \"county_name\": \"Marin\", \"county_fips\": 6041, \"region_name\": \"Bay Area\", \"region_code\": 1, \"pop_trans_acc\": 23966, \"pop2010\": 39069, \"p_trans_acc\": 0.613427526, \"LL_95CI\": 0.60859875, \"UL_95CI\": 0.618256301, \"se\": 0.002463661, \"rse\": 0.637308952}, {\"year\": 2012, \"race_eth_code\": 4, \"race_eth_name\": \"Latino\", \"geotype\": \"CO\", \"geotypevalue\": 6055, \"geoname\": \"Napa\", \"county_name\": \"Napa\", \"county_fips\": 6055, \"region_name\": \"Bay Area\", \"region_code\": 1, \"pop_trans_acc\": 2414, \"pop2010\": 44010, \"p_trans_acc\": 0.05485117, \"LL_95CI\": 0.052723896, \"UL_95CI\": 0.056978444, \"se\": 0.001085344, \"rse\": 1.978706897}, {\"year\": 2012, \"race_eth_code\": 4, \"race_eth_name\": \"Latino\", \"geotype\": \"CO\", \"geotypevalue\": 6075, \"geoname\": \"San Francisco\", \"county_name\": \"San Francisco\", \"county_fips\": 6075, \"region_name\": \"Bay Area\", \"region_code\": 1, \"pop_trans_acc\": 121065, \"pop2010\": 121774, \"p_trans_acc\": 0.994177739, \"LL_95CI\": 0.993750416, \"UL_95CI\": 0.994605062, \"se\": 0.000218022, \"rse\": 3.744629891}, {\"year\": 2012, \"race_eth_code\": 4, \"race_eth_name\": \"Latino\", \"geotype\": \"CO\", \"geotypevalue\": 6081, \"geoname\": \"San Mateo\", \"county_name\": \"San Mateo\", \"county_fips\": 6081, \"region_name\": \"Bay Area\", \"region_code\": 1, \"pop_trans_acc\": 110441, \"pop2010\": 182502, \"p_trans_acc\": 0.605149533, \"LL_95CI\": 0.602906839, \"UL_95CI\": 0.607392226, \"se\": 0.001144231, \"rse\": 0.289788541}, {\"year\": 2012, \"race_eth_code\": 4, \"race_eth_name\": \"Latino\", \"geotype\": \"CO\", \"geotypevalue\": 6085, \"geoname\": \"Santa Clara\", \"county_name\": \"Santa Clara\", \"county_fips\": 6085, \"region_name\": \"Bay Area\", \"region_code\": 1, \"pop_trans_acc\": 366390, \"pop2010\": 479210, \"p_trans_acc\": 0.764570856, \"LL_95CI\": 0.76336961, \"UL_95CI\": 0.765772103, \"se\": 0.000612881, \"rse\": 0.260324967}, {\"year\": 2012, \"race_eth_code\": 4, \"race_eth_name\": \"Latino\", \"geotype\": \"CO\", \"geotypevalue\": 6095, \"geoname\": \"Solano\", \"county_name\": \"Solano\", \"county_fips\": 6095, \"region_name\": \"Bay Area\", \"region_code\": 1, \"pop_trans_acc\": 26447, \"pop2010\": 99356, \"p_trans_acc\": 0.266184226, \"LL_95CI\": 0.263436056, \"UL_95CI\": 0.268932397, \"se\": 0.001402128, \"rse\": 0.526750933}, {\"year\": 2012, \"race_eth_code\": 4, \"race_eth_name\": \"Latino\", \"geotype\": \"CO\", \"geotypevalue\": 6097, \"geoname\": \"Sonoma\", \"county_name\": \"Sonoma\", \"county_fips\": 6097, \"region_name\": \"Bay Area\", \"region_code\": 1, \"pop_trans_acc\": 32739, \"pop2010\": 120430, \"p_trans_acc\": 0.271850868, \"LL_95CI\": 0.269338031, \"UL_95CI\": 0.274363704, \"se\": 0.00128206, \"rse\": 0.471603982}, {\"year\": 2012, \"race_eth_code\": 5, \"race_eth_name\": \"NHOPI\", \"geotype\": \"CO\", \"geotypevalue\": 6001, \"geoname\": \"Alameda\", \"county_name\": \"Alameda\", \"county_fips\": 6001, \"region_name\": \"Bay Area\", \"region_code\": 1, \"pop_trans_acc\": 7647, \"pop2010\": 11931, \"p_trans_acc\": 0.640935378, \"LL_95CI\": 0.632327204, \"UL_95CI\": 0.649543553, \"se\": 0.004391926, \"rse\": 1.223157524}, {\"year\": 2012, \"race_eth_code\": 5, \"race_eth_name\": \"NHOPI\", \"geotype\": \"CO\", \"geotypevalue\": 6013, \"geoname\": \"Contra Costa\", \"county_name\": \"Contra Costa\", \"county_fips\": 6013, \"region_name\": \"Bay Area\", \"region_code\": 1, \"pop_trans_acc\": 1723, \"pop2010\": 4382, \"p_trans_acc\": 0.393199452, \"LL_95CI\": 0.378736754, \"UL_95CI\": 0.40766215, \"se\": 0.007378928, \"rse\": 1.876637297}, {\"year\": 2012, \"race_eth_code\": 5, \"race_eth_name\": \"NHOPI\", \"geotype\": \"CO\", \"geotypevalue\": 6041, \"geoname\": \"Marin\", \"county_name\": \"Marin\", \"county_fips\": 6041, \"region_name\": \"Bay Area\", \"region_code\": 1, \"pop_trans_acc\": 241, \"pop2010\": 436, \"p_trans_acc\": 0.552752294, \"LL_95CI\": 0.50608075, \"UL_95CI\": 0.599423837, \"se\": 0.023812012, \"rse\": 5.324121661}, {\"year\": 2012, \"race_eth_code\": 5, \"race_eth_name\": \"NHOPI\", \"geotype\": \"CO\", \"geotypevalue\": 6055, \"geoname\": \"Napa\", \"county_name\": \"Napa\", \"county_fips\": 6055, \"region_name\": \"Bay Area\", \"region_code\": 1, \"pop_trans_acc\": 4, \"pop2010\": 313, \"p_trans_acc\": 0.012779553, \"LL_95CI\": 0.000335874, \"UL_95CI\": 0.025223232, \"se\": 0.006348816, \"rse\": 49.67948388}, {\"year\": 2012, \"race_eth_code\": 5, \"race_eth_name\": \"NHOPI\", \"geotype\": \"CO\", \"geotypevalue\": 6075, \"geoname\": \"San Francisco\", \"county_name\": \"San Francisco\", \"county_fips\": 6075, \"region_name\": \"Bay Area\", \"region_code\": 1, \"pop_trans_acc\": 3112, \"pop2010\": 3128, \"p_trans_acc\": 0.99488491, \"LL_95CI\": 0.992384935, \"UL_95CI\": 0.997384886, \"se\": 0.001275498, \"rse\": 24.93597941}, {\"year\": 2012, \"race_eth_code\": 5, \"race_eth_name\": \"NHOPI\", \"geotype\": \"CO\", \"geotypevalue\": 6081, \"geoname\": \"San Mateo\", \"county_name\": \"San Mateo\", \"county_fips\": 6081, \"region_name\": \"Bay Area\", \"region_code\": 1, \"pop_trans_acc\": 5810, \"pop2010\": 9884, \"p_trans_acc\": 0.587818697, \"LL_95CI\": 0.578114591, \"UL_95CI\": 0.597522803, \"se\": 0.004951075, \"rse\": 1.201188555}, {\"year\": 2012, \"race_eth_code\": 5, \"race_eth_name\": \"NHOPI\", \"geotype\": \"CO\", \"geotypevalue\": 6085, \"geoname\": \"Santa Clara\", \"county_name\": \"Santa Clara\", \"county_fips\": 6085, \"region_name\": \"Bay Area\", \"region_code\": 1, \"pop_trans_acc\": 4644, \"pop2010\": 6252, \"p_trans_acc\": 0.742802303, \"LL_95CI\": 0.731967607, \"UL_95CI\": 0.753637, \"se\": 0.005527906, \"rse\": 2.149282976}, {\"year\": 2012, \"race_eth_code\": 5, \"race_eth_name\": \"NHOPI\", \"geotype\": \"CO\", \"geotypevalue\": 6095, \"geoname\": \"Solano\", \"county_name\": \"Solano\", \"county_fips\": 6095, \"region_name\": \"Bay Area\", \"region_code\": 1, \"pop_trans_acc\": 745, \"pop2010\": 3243, \"p_trans_acc\": 0.229725563, \"LL_95CI\": 0.215247515, \"UL_95CI\": 0.24420361, \"se\": 0.007386759, \"rse\": 3.215471068}, {\"year\": 2012, \"race_eth_code\": 5, \"race_eth_name\": \"NHOPI\", \"geotype\": \"CO\", \"geotypevalue\": 6097, \"geoname\": \"Sonoma\", \"county_name\": \"Sonoma\", \"county_fips\": 6097, \"region_name\": \"Bay Area\", \"region_code\": 1, \"pop_trans_acc\": 389, \"pop2010\": 1434, \"p_trans_acc\": 0.271269177, \"LL_95CI\": 0.248256598, \"UL_95CI\": 0.294281756, \"se\": 0.011741112, \"rse\": 4.328214433}, {\"year\": 2012, \"race_eth_code\": 6, \"race_eth_name\": \"White\", \"geotype\": \"CO\", \"geotypevalue\": 6001, \"geoname\": \"Alameda\", \"county_name\": \"Alameda\", \"county_fips\": 6001, \"region_name\": \"Bay Area\", \"region_code\": 1, \"pop_trans_acc\": 291753, \"pop2010\": 514559, \"p_trans_acc\": 0.566996205, \"LL_95CI\": 0.565642342, \"UL_95CI\": 0.568350067, \"se\": 0.000690746, \"rse\": 0.159524222}, {\"year\": 2012, \"race_eth_code\": 6, \"race_eth_name\": \"White\", \"geotype\": \"CO\", \"geotypevalue\": 6013, \"geoname\": \"Contra Costa\", \"county_name\": \"Contra Costa\", \"county_fips\": 6013, \"region_name\": \"Bay Area\", \"region_code\": 1, \"pop_trans_acc\": 105927, \"pop2010\": 500923, \"p_trans_acc\": 0.211463638, \"LL_95CI\": 0.210332803, \"UL_95CI\": 0.212594473, \"se\": 0.000576957, \"rse\": 0.272839677}, {\"year\": 2012, \"race_eth_code\": 6, \"race_eth_name\": \"White\", \"geotype\": \"CO\", \"geotypevalue\": 6041, \"geoname\": \"Marin\", \"county_name\": \"Marin\", \"county_fips\": 6041, \"region_name\": \"Bay Area\", \"region_code\": 1, \"pop_trans_acc\": 75887, \"pop2010\": 183830, \"p_trans_acc\": 0.412810749, \"LL_95CI\": 0.410560076, \"UL_95CI\": 0.415061422, \"se\": 0.001148303, \"rse\": 0.27816684}, {\"year\": 2012, \"race_eth_code\": 6, \"race_eth_name\": \"White\", \"geotype\": \"CO\", \"geotypevalue\": 6055, \"geoname\": \"Napa\", \"county_name\": \"Napa\", \"county_fips\": 6055, \"region_name\": \"Bay Area\", \"region_code\": 1, \"pop_trans_acc\": 3630, \"pop2010\": 76967, \"p_trans_acc\": 0.04716307, \"LL_95CI\": 0.045665407, \"UL_95CI\": 0.048660733, \"se\": 0.000764114, \"rse\": 1.620152809}, {\"year\": 2012, \"race_eth_code\": 6, \"race_eth_name\": \"White\", \"geotype\": \"CO\", \"geotypevalue\": 6075, \"geoname\": \"San Francisco\", \"county_name\": \"San Francisco\", \"county_fips\": 6075, \"region_name\": \"Bay Area\", \"region_code\": 1, \"pop_trans_acc\": 335594, \"pop2010\": 337451, \"p_trans_acc\": 0.994496979, \"LL_95CI\": 0.994247374, \"UL_95CI\": 0.994746584, \"se\": 0.000127349, \"rse\": 2.314172786}, {\"year\": 2012, \"race_eth_code\": 6, \"race_eth_name\": \"White\", \"geotype\": \"CO\", \"geotypevalue\": 6081, \"geoname\": \"San Mateo\", \"county_name\": \"San Mateo\", \"county_fips\": 6081, \"region_name\": \"Bay Area\", \"region_code\": 1, \"pop_trans_acc\": 131890, \"pop2010\": 303609, \"p_trans_acc\": 0.434407412, \"LL_95CI\": 0.432644222, \"UL_95CI\": 0.436170603, \"se\": 0.000899587, \"rse\": 0.207083702}, {\"year\": 2012, \"race_eth_code\": 6, \"race_eth_name\": \"White\", \"geotype\": \"CO\", \"geotypevalue\": 6085, \"geoname\": \"Santa Clara\", \"county_name\": \"Santa Clara\", \"county_fips\": 6085, \"region_name\": \"Bay Area\", \"region_code\": 1, \"pop_trans_acc\": 340304, \"pop2010\": 626909, \"p_trans_acc\": 0.542828385, \"LL_95CI\": 0.54159521, \"UL_95CI\": 0.54406156, \"se\": 0.000629171, \"rse\": 0.137622484}, {\"year\": 2012, \"race_eth_code\": 6, \"race_eth_name\": \"White\", \"geotype\": \"CO\", \"geotypevalue\": 6095, \"geoname\": \"Solano\", \"county_name\": \"Solano\", \"county_fips\": 6095, \"region_name\": \"Bay Area\", \"region_code\": 1, \"pop_trans_acc\": 31944, \"pop2010\": 168628, \"p_trans_acc\": 0.189434732, \"LL_95CI\": 0.187564416, \"UL_95CI\": 0.191305048, \"se\": 0.000954243, \"rse\": 0.503731775}, {\"year\": 2012, \"race_eth_code\": 6, \"race_eth_name\": \"White\", \"geotype\": \"CO\", \"geotypevalue\": 6097, \"geoname\": \"Sonoma\", \"county_name\": \"Sonoma\", \"county_fips\": 6097, \"region_name\": \"Bay Area\", \"region_code\": 1, \"pop_trans_acc\": 41709, \"pop2010\": 320027, \"p_trans_acc\": 0.130329628, \"LL_95CI\": 0.12916319, \"UL_95CI\": 0.131496066, \"se\": 0.000595121, \"rse\": 0.456627905}, {\"year\": 2012, \"race_eth_code\": 7, \"race_eth_name\": \"Multiple\", \"geotype\": \"CO\", \"geotypevalue\": 6001, \"geoname\": \"Alameda\", \"county_name\": \"Alameda\", \"county_fips\": 6001, \"region_name\": \"Bay Area\", \"region_code\": 1, \"pop_trans_acc\": 38946, \"pop2010\": 60862, \"p_trans_acc\": 0.639906674, \"LL_95CI\": 0.636092954, \"UL_95CI\": 0.643720394, \"se\": 0.001945776, \"rse\": 0.540353133}, {\"year\": 2012, \"race_eth_code\": 7, \"race_eth_name\": \"Multiple\", \"geotype\": \"CO\", \"geotypevalue\": 6013, \"geoname\": \"Contra Costa\", \"county_name\": \"Contra Costa\", \"county_fips\": 6013, \"region_name\": \"Bay Area\", \"region_code\": 1, \"pop_trans_acc\": 11635, \"pop2010\": 39569, \"p_trans_acc\": 0.294043317, \"LL_95CI\": 0.289554073, \"UL_95CI\": 0.298532561, \"se\": 0.002290431, \"rse\": 0.778943277}, {\"year\": 2012, \"race_eth_code\": 7, \"race_eth_name\": \"Multiple\", \"geotype\": \"CO\", \"geotypevalue\": 6041, \"geoname\": \"Marin\", \"county_name\": \"Marin\", \"county_fips\": 6041, \"region_name\": \"Bay Area\", \"region_code\": 1, \"pop_trans_acc\": 3353, \"pop2010\": 7311, \"p_trans_acc\": 0.458623991, \"LL_95CI\": 0.447201902, \"UL_95CI\": 0.470046081, \"se\": 0.005827597, \"rse\": 1.270669853}, {\"year\": 2012, \"race_eth_code\": 7, \"race_eth_name\": \"Multiple\", \"geotype\": \"CO\", \"geotypevalue\": 6055, \"geoname\": \"Napa\", \"county_name\": \"Napa\", \"county_fips\": 6055, \"region_name\": \"Bay Area\", \"region_code\": 1, \"pop_trans_acc\": 134, \"pop2010\": 3003, \"p_trans_acc\": 0.044622045, \"LL_95CI\": 0.03723721, \"UL_95CI\": 0.052006879, \"se\": 0.003767773, \"rse\": 8.443746937}, {\"year\": 2012, \"race_eth_code\": 7, \"race_eth_name\": \"Multiple\", \"geotype\": \"CO\", \"geotypevalue\": 6075, \"geoname\": \"San Francisco\", \"county_name\": \"San Francisco\", \"county_fips\": 6075, \"region_name\": \"Bay Area\", \"region_code\": 1, \"pop_trans_acc\": 25840, \"pop2010\": 26079, \"p_trans_acc\": 0.990835538, \"LL_95CI\": 0.989678987, \"UL_95CI\": 0.991992089, \"se\": 0.000590077, \"rse\": 6.438754064}, {\"year\": 2012, \"race_eth_code\": 7, \"race_eth_name\": \"Multiple\", \"geotype\": \"CO\", \"geotypevalue\": 6081, \"geoname\": \"San Mateo\", \"county_name\": \"San Mateo\", \"county_fips\": 6081, \"region_name\": \"Bay Area\", \"region_code\": 1, \"pop_trans_acc\": 12698, \"pop2010\": 23925, \"p_trans_acc\": 0.530741902, \"LL_95CI\": 0.524418108, \"UL_95CI\": 0.537065695, \"se\": 0.003226425, \"rse\": 0.687558771}, {\"year\": 2012, \"race_eth_code\": 7, \"race_eth_name\": \"Multiple\", \"geotype\": \"CO\", \"geotypevalue\": 6085, \"geoname\": \"Santa Clara\", \"county_name\": \"Santa Clara\", \"county_fips\": 6085, \"region_name\": \"Bay Area\", \"region_code\": 1, \"pop_trans_acc\": 32516, \"pop2010\": 53555, \"p_trans_acc\": 0.607151526, \"LL_95CI\": 0.603015178, \"UL_95CI\": 0.611287875, \"se\": 0.002110382, \"rse\": 0.537199994}, {\"year\": 2012, \"race_eth_code\": 7, \"race_eth_name\": \"Multiple\", \"geotype\": \"CO\", \"geotypevalue\": 6095, \"geoname\": \"Solano\", \"county_name\": \"Solano\", \"county_fips\": 6095, \"region_name\": \"Bay Area\", \"region_code\": 1, \"pop_trans_acc\": 4646, \"pop2010\": 21020, \"p_trans_acc\": 0.221027593, \"LL_95CI\": 0.215418095, \"UL_95CI\": 0.226637091, \"se\": 0.002861989, \"rse\": 1.294855883}, {\"year\": 2012, \"race_eth_code\": 7, \"race_eth_name\": \"Multiple\", \"geotype\": \"CO\", \"geotypevalue\": 6097, \"geoname\": \"Sonoma\", \"county_name\": \"Sonoma\", \"county_fips\": 6097, \"region_name\": \"Bay Area\", \"region_code\": 1, \"pop_trans_acc\": 2401, \"pop2010\": 12944, \"p_trans_acc\": 0.185491347, \"LL_95CI\": 0.1787951, \"UL_95CI\": 0.192187595, \"se\": 0.003416453, \"rse\": 1.841839451}, {\"year\": 2012, \"race_eth_code\": 8, \"race_eth_name\": \"Other\", \"geotype\": \"CO\", \"geotypevalue\": 6001, \"geoname\": \"Alameda\", \"county_name\": \"Alameda\", \"county_fips\": 6001, \"region_name\": \"Bay Area\", \"region_code\": 1, \"pop_trans_acc\": 2820, \"pop2010\": 4191, \"p_trans_acc\": 0.672870437, \"LL_95CI\": 0.658666038, \"UL_95CI\": 0.687074836, \"se\": 0.007247142, \"rse\": 2.215373704}, {\"year\": 2012, \"race_eth_code\": 8, \"race_eth_name\": \"Other\", \"geotype\": \"CO\", \"geotypevalue\": 6013, \"geoname\": \"Contra Costa\", \"county_name\": \"Contra Costa\", \"county_fips\": 6013, \"region_name\": \"Bay Area\", \"region_code\": 1, \"pop_trans_acc\": 1218, \"pop2010\": 3122, \"p_trans_acc\": 0.390134529, \"LL_95CI\": 0.373023984, \"UL_95CI\": 0.407245074, \"se\": 0.00872987, \"rse\": 2.23765629}, {\"year\": 2012, \"race_eth_code\": 8, \"race_eth_name\": \"Other\", \"geotype\": \"CO\", \"geotypevalue\": 6041, \"geoname\": \"Marin\", \"county_name\": \"Marin\", \"county_fips\": 6041, \"region_name\": \"Bay Area\", \"region_code\": 1, \"pop_trans_acc\": 437, \"pop2010\": 1034, \"p_trans_acc\": 0.422630561, \"LL_95CI\": 0.392521088, \"UL_95CI\": 0.452740033, \"se\": 0.015361976, \"rse\": 3.634847357}, {\"year\": 2012, \"race_eth_code\": 8, \"race_eth_name\": \"Other\", \"geotype\": \"CO\", \"geotypevalue\": 6055, \"geoname\": \"Napa\", \"county_name\": \"Napa\", \"county_fips\": 6055, \"region_name\": \"Bay Area\", \"region_code\": 1, \"pop_trans_acc\": 17, \"pop2010\": 221, \"p_trans_acc\": 0.076923077, \"LL_95CI\": 0.041790727, \"UL_95CI\": 0.112055427, \"se\": 0.017924669, \"rse\": 23.30206912}, {\"year\": 2012, \"race_eth_code\": 8, \"race_eth_name\": \"Other\", \"geotype\": \"CO\", \"geotypevalue\": 6075, \"geoname\": \"San Francisco\", \"county_name\": \"San Francisco\", \"county_fips\": 6075, \"region_name\": \"Bay Area\", \"region_code\": 1, \"pop_trans_acc\": 2473, \"pop2010\": 2494, \"p_trans_acc\": 0.991579791, \"LL_95CI\": 0.987993603, \"UL_95CI\": 0.99516598, \"se\": 0.001829688, \"rse\": 21.7297228}, {\"year\": 2012, \"race_eth_code\": 8, \"race_eth_name\": \"Other\", \"geotype\": \"CO\", \"geotypevalue\": 6081, \"geoname\": \"San Mateo\", \"county_name\": \"San Mateo\", \"county_fips\": 6081, \"region_name\": \"Bay Area\", \"region_code\": 1, \"pop_trans_acc\": 1622, \"pop2010\": 2709, \"p_trans_acc\": 0.598744924, \"LL_95CI\": 0.580287004, \"UL_95CI\": 0.617202844, \"se\": 0.009417306, \"rse\": 2.3469625}, {\"year\": 2012, \"race_eth_code\": 8, \"race_eth_name\": \"Other\", \"geotype\": \"CO\", \"geotypevalue\": 6085, \"geoname\": \"Santa Clara\", \"county_name\": \"Santa Clara\", \"county_fips\": 6085, \"region_name\": \"Bay Area\", \"region_code\": 1, \"pop_trans_acc\": 2518, \"pop2010\": 3877, \"p_trans_acc\": 0.649471241, \"LL_95CI\": 0.634451931, \"UL_95CI\": 0.66449055, \"se\": 0.007662913, \"rse\": 2.186101056}, {\"year\": 2012, \"race_eth_code\": 8, \"race_eth_name\": \"Other\", \"geotype\": \"CO\", \"geotypevalue\": 6095, \"geoname\": \"Solano\", \"county_name\": \"Solano\", \"county_fips\": 6095, \"region_name\": \"Bay Area\", \"region_code\": 1, \"pop_trans_acc\": 176, \"pop2010\": 1463, \"p_trans_acc\": 0.120300752, \"LL_95CI\": 0.103630768, \"UL_95CI\": 0.136970736, \"se\": 0.008505094, \"rse\": 7.069859392}, {\"year\": 2012, \"race_eth_code\": 8, \"race_eth_name\": \"Other\", \"geotype\": \"CO\", \"geotypevalue\": 6097, \"geoname\": \"Sonoma\", \"county_name\": \"Sonoma\", \"county_fips\": 6097, \"region_name\": \"Bay Area\", \"region_code\": 1, \"pop_trans_acc\": 179, \"pop2010\": 913, \"p_trans_acc\": 0.196056955, \"LL_95CI\": 0.170304155, \"UL_95CI\": 0.221809755, \"se\": 0.013139184, \"rse\": 6.701717636}, {\"year\": 2012, \"race_eth_code\": 9, \"race_eth_name\": \"Total\", \"geotype\": \"CO\", \"geotypevalue\": 6001, \"geoname\": \"Alameda\", \"county_name\": \"Alameda\", \"county_fips\": 6001, \"region_name\": \"Bay Area\", \"region_code\": 1, \"pop_trans_acc\": 962403, \"pop2010\": 1510271, \"p_trans_acc\": 0.637238615, \"LL_95CI\": 0.636471801, \"UL_95CI\": 0.638005429, \"se\": 0.000391232, \"rse\": 0.107848243}, {\"year\": 2012, \"race_eth_code\": 9, \"race_eth_name\": \"Total\", \"geotype\": \"CO\", \"geotypevalue\": 6013, \"geoname\": \"Contra Costa\", \"county_name\": \"Contra Costa\", \"county_fips\": 6013, \"region_name\": \"Bay Area\", \"region_code\": 1, \"pop_trans_acc\": 331862, \"pop2010\": 1049025, \"p_trans_acc\": 0.316352804, \"LL_95CI\": 0.315462855, \"UL_95CI\": 0.317242753, \"se\": 0.000454056, \"rse\": 0.143528206}, {\"year\": 2012, \"race_eth_code\": 9, \"race_eth_name\": \"Total\", \"geotype\": \"CO\", \"geotypevalue\": 6041, \"geoname\": \"Marin\", \"county_name\": \"Marin\", \"county_fips\": 6041, \"region_name\": \"Bay Area\", \"region_code\": 1, \"pop_trans_acc\": 113902, \"pop2010\": 252409, \"p_trans_acc\": 0.451259662, \"LL_95CI\": 0.449318327, \"UL_95CI\": 0.453200996, \"se\": 0.000990477, \"rse\": 0.219491531}, {\"year\": 2012, \"race_eth_code\": 9, \"race_eth_name\": \"Total\", \"geotype\": \"CO\", \"geotypevalue\": 6055, \"geoname\": \"Napa\", \"county_name\": \"Napa\", \"county_fips\": 6055, \"region_name\": \"Bay Area\", \"region_code\": 1, \"pop_trans_acc\": 6386, \"pop2010\": 136484, \"p_trans_acc\": 0.046789367, \"LL_95CI\": 0.045668941, \"UL_95CI\": 0.047909793, \"se\": 0.000571646, \"rse\": 1.221743345}, {\"year\": 2012, \"race_eth_code\": 9, \"race_eth_name\": \"Total\", \"geotype\": \"CO\", \"geotypevalue\": 6075, \"geoname\": \"San Francisco\", \"county_name\": \"San Francisco\", \"county_fips\": 6075, \"region_name\": \"Bay Area\", \"region_code\": 1, \"pop_trans_acc\": 801086, \"pop2010\": 805235, \"p_trans_acc\": 0.994847467, \"LL_95CI\": 0.994691086, \"UL_95CI\": 0.995003848, \"se\": 7.97861e-05, \"rse\": 1.548483321}, {\"year\": 2012, \"race_eth_code\": 9, \"race_eth_name\": \"Total\", \"geotype\": \"CO\", \"geotypevalue\": 6081, \"geoname\": \"San Mateo\", \"county_name\": \"San Mateo\", \"county_fips\": 6081, \"region_name\": \"Bay Area\", \"region_code\": 1, \"pop_trans_acc\": 390512, \"pop2010\": 718451, \"p_trans_acc\": 0.543547159, \"LL_95CI\": 0.542395367, \"UL_95CI\": 0.544698951, \"se\": 0.000587649, \"rse\": 0.128742542}, {\"year\": 2012, \"race_eth_code\": 9, \"race_eth_name\": \"Total\", \"geotype\": \"CO\", \"geotypevalue\": 6085, \"geoname\": \"Santa Clara\", \"county_name\": \"Santa Clara\", \"county_fips\": 6085, \"region_name\": \"Bay Area\", \"region_code\": 1, \"pop_trans_acc\": 1151214, \"pop2010\": 1781642, \"p_trans_acc\": 0.64615338, \"LL_95CI\": 0.645451244, \"UL_95CI\": 0.646855516, \"se\": 0.000358233, \"rse\": 0.101239517}, {\"year\": 2012, \"race_eth_code\": 9, \"race_eth_name\": \"Total\", \"geotype\": \"CO\", \"geotypevalue\": 6095, \"geoname\": \"Solano\", \"county_name\": \"Solano\", \"county_fips\": 6095, \"region_name\": \"Bay Area\", \"region_code\": 1, \"pop_trans_acc\": 85048, \"pop2010\": 413344, \"p_trans_acc\": 0.20575598, \"LL_95CI\": 0.204523575, \"UL_95CI\": 0.206988386, \"se\": 0.000628778, \"rse\": 0.305594071}, {\"year\": 2012, \"race_eth_code\": 9, \"race_eth_name\": \"Total\", \"geotype\": \"CO\", \"geotypevalue\": 6097, \"geoname\": \"Sonoma\", \"county_name\": \"Sonoma\", \"county_fips\": 6097, \"region_name\": \"Bay Area\", \"region_code\": 1, \"pop_trans_acc\": 83873, \"pop2010\": 483878, \"p_trans_acc\": 0.173335014, \"LL_95CI\": 0.172268428, \"UL_95CI\": 0.174401601, \"se\": 0.000544177, \"rse\": 0.313945081}, {\"year\": 2012, \"race_eth_code\": 1, \"race_eth_name\": \"AIAN\", \"geotype\": \"CO\", \"geotypevalue\": 6073, \"geoname\": \"San Diego\", \"county_name\": \"San Diego\", \"county_fips\": 6073, \"region_name\": \"San Diego\", \"region_code\": 9, \"pop_trans_acc\": 3192, \"pop2010\": 14098, \"p_trans_acc\": 0.226415094, \"LL_95CI\": 0.219506591, \"UL_95CI\": 0.233323598, \"se\": 0.003524747, \"rse\": 1.556763183}, {\"year\": 2012, \"race_eth_code\": 2, \"race_eth_name\": \"Asian\", \"geotype\": \"CO\", \"geotypevalue\": 6073, \"geoname\": \"San Diego\", \"county_name\": \"San Diego\", \"county_fips\": 6073, \"region_name\": \"San Diego\", \"region_code\": 9, \"pop_trans_acc\": 119405, \"pop2010\": 328058, \"p_trans_acc\": 0.363975273, \"LL_95CI\": 0.362328803, \"UL_95CI\": 0.365621742, \"se\": 0.000840035, \"rse\": 0.230794653}, {\"year\": 2012, \"race_eth_code\": 3, \"race_eth_name\": \"AfricanAm\", \"geotype\": \"CO\", \"geotypevalue\": 6073, \"geoname\": \"San Diego\", \"county_name\": \"San Diego\", \"county_fips\": 6073, \"region_name\": \"San Diego\", \"region_code\": 9, \"pop_trans_acc\": 72630, \"pop2010\": 146600, \"p_trans_acc\": 0.495429741, \"LL_95CI\": 0.492870324, \"UL_95CI\": 0.497989157, \"se\": 0.001305825, \"rse\": 0.263574142}, {\"year\": 2012, \"race_eth_code\": 4, \"race_eth_name\": \"Latino\", \"geotype\": \"CO\", \"geotypevalue\": 6073, \"geoname\": \"San Diego\", \"county_name\": \"San Diego\", \"county_fips\": 6073, \"region_name\": \"San Diego\", \"region_code\": 9, \"pop_trans_acc\": 498409, \"pop2010\": 991348, \"p_trans_acc\": 0.50275887, \"LL_95CI\": 0.501774618, \"UL_95CI\": 0.503743122, \"se\": 0.000502169, \"rse\": 0.100991141}, {\"year\": 2012, \"race_eth_code\": 5, \"race_eth_name\": \"NHOPI\", \"geotype\": \"CO\", \"geotypevalue\": 6073, \"geoname\": \"San Diego\", \"county_name\": \"San Diego\", \"county_fips\": 6073, \"region_name\": \"San Diego\", \"region_code\": 9, \"pop_trans_acc\": 5101, \"pop2010\": 13504, \"p_trans_acc\": 0.377739929, \"LL_95CI\": 0.369562679, \"UL_95CI\": 0.385917179, \"se\": 0.004172066, \"rse\": 1.104481143}, {\"year\": 2012, \"race_eth_code\": 6, \"race_eth_name\": \"White\", \"geotype\": \"CO\", \"geotypevalue\": 6073, \"geoname\": \"San Diego\", \"county_name\": \"San Diego\", \"county_fips\": 6073, \"region_name\": \"San Diego\", \"region_code\": 9, \"pop_trans_acc\": 368415, \"pop2010\": 1500047, \"p_trans_acc\": 0.245602304, \"LL_95CI\": 0.244913462, \"UL_95CI\": 0.246291147, \"se\": 0.00035145, \"rse\": 0.143097328}, {\"year\": 2012, \"race_eth_code\": 7, \"race_eth_name\": \"Multiple\", \"geotype\": \"CO\", \"geotypevalue\": 6073, \"geoname\": \"San Diego\", \"county_name\": \"San Diego\", \"county_fips\": 6073, \"region_name\": \"San Diego\", \"region_code\": 9, \"pop_trans_acc\": 29168, \"pop2010\": 94943, \"p_trans_acc\": 0.307215908, \"LL_95CI\": 0.304281332, \"UL_95CI\": 0.310150485, \"se\": 0.001497233, \"rse\": 0.487355226}, {\"year\": 2012, \"race_eth_code\": 8, \"race_eth_name\": \"Other\", \"geotype\": \"CO\", \"geotypevalue\": 6073, \"geoname\": \"San Diego\", \"county_name\": \"San Diego\", \"county_fips\": 6073, \"region_name\": \"San Diego\", \"region_code\": 9, \"pop_trans_acc\": 2347, \"pop2010\": 6715, \"p_trans_acc\": 0.349516009, \"LL_95CI\": 0.338111282, \"UL_95CI\": 0.360920736, \"se\": 0.005818738, \"rse\": 1.664798828}, {\"year\": 2012, \"race_eth_code\": 9, \"race_eth_name\": \"Total\", \"geotype\": \"CO\", \"geotypevalue\": 6073, \"geoname\": \"San Diego\", \"county_name\": \"San Diego\", \"county_fips\": 6073, \"region_name\": \"San Diego\", \"region_code\": 9, \"pop_trans_acc\": 1098667, \"pop2010\": 3095313, \"p_trans_acc\": 0.354945364, \"LL_95CI\": 0.354412296, \"UL_95CI\": 0.355478432, \"se\": 0.000271974, \"rse\": 0.076624069}, {\"year\": 2012, \"race_eth_code\": 1, \"race_eth_name\": \"AIAN\", \"geotype\": \"CO\", \"geotypevalue\": 6025, \"geoname\": \"Imperial\", \"county_name\": \"Imperial\", \"county_fips\": 6025, \"region_name\": \"Southern California\", \"region_code\": 14, \"pop_trans_acc\": 0, \"pop2010\": 1642, \"p_trans_acc\": 0.0, \"LL_95CI\": 0.0, \"UL_95CI\": 0.0, \"se\": 0.0, \"rse\": 0.0}, {\"year\": 2012, \"race_eth_code\": 1, \"race_eth_name\": \"AIAN\", \"geotype\": \"CO\", \"geotypevalue\": 6037, \"geoname\": \"Los Angeles\", \"county_name\": \"Los Angeles\", \"county_fips\": 6037, \"region_name\": \"Southern California\", \"region_code\": 14, \"pop_trans_acc\": 9255, \"pop2010\": 18886, \"p_trans_acc\": 0.490045536, \"LL_95CI\": 0.482915857, \"UL_95CI\": 0.497175216, \"se\": 0.003637591, \"rse\": 0.742296627}, {\"year\": 2012, \"race_eth_code\": 1, \"race_eth_name\": \"AIAN\", \"geotype\": \"CO\", \"geotypevalue\": 6059, \"geoname\": \"Orange\", \"county_name\": \"Orange\", \"county_fips\": 6059, \"region_name\": \"Southern California\", \"region_code\": 14, \"pop_trans_acc\": 1897, \"pop2010\": 6216, \"p_trans_acc\": 0.30518018, \"LL_95CI\": 0.29373257, \"UL_95CI\": 0.31662779, \"se\": 0.005840617, \"rse\": 1.913825927}, {\"year\": 2012, \"race_eth_code\": 1, \"race_eth_name\": \"AIAN\", \"geotype\": \"CO\", \"geotypevalue\": 6065, \"geoname\": \"Riverside\", \"county_name\": \"Riverside\", \"county_fips\": 6065, \"region_name\": \"Southern California\", \"region_code\": 14, \"pop_trans_acc\": 367, \"pop2010\": 10931, \"p_trans_acc\": 0.033574238, \"LL_95CI\": 0.030197375, \"UL_95CI\": 0.036951102, \"se\": 0.001722889, \"rse\": 5.131581337}, {\"year\": 2012, \"race_eth_code\": 1, \"race_eth_name\": \"AIAN\", \"geotype\": \"CO\", \"geotypevalue\": 6071, \"geoname\": \"San Bernardino\", \"county_name\": \"San Bernardino\", \"county_fips\": 6071, \"region_name\": \"Southern California\", \"region_code\": 14, \"pop_trans_acc\": 226, \"pop2010\": 8523, \"p_trans_acc\": 0.026516485, \"LL_95CI\": 0.023105482, \"UL_95CI\": 0.029927488, \"se\": 0.001740308, \"rse\": 6.563116015}, {\"year\": 2012, \"race_eth_code\": 1, \"race_eth_name\": \"AIAN\", \"geotype\": \"CO\", \"geotypevalue\": 6111, \"geoname\": \"Ventura\", \"county_name\": \"Ventura\", \"county_fips\": 6111, \"region_name\": \"Southern California\", \"region_code\": 14, \"pop_trans_acc\": 0, \"pop2010\": 2389, \"p_trans_acc\": 0.0, \"LL_95CI\": 0.0, \"UL_95CI\": 0.0, \"se\": 0.0, \"rse\": 0.0}, {\"year\": 2012, \"race_eth_code\": 2, \"race_eth_name\": \"Asian\", \"geotype\": \"CO\", \"geotypevalue\": 6025, \"geoname\": \"Imperial\", \"county_name\": \"Imperial\", \"county_fips\": 6025, \"region_name\": \"Southern California\", \"region_code\": 14, \"pop_trans_acc\": 0, \"pop2010\": 2201, \"p_trans_acc\": 0.0, \"LL_95CI\": 0.0, \"UL_95CI\": 0.0, \"se\": 0.0, \"rse\": 0.0}, {\"year\": 2012, \"race_eth_code\": 2, \"race_eth_name\": \"Asian\", \"geotype\": \"CO\", \"geotypevalue\": 6037, \"geoname\": \"Los Angeles\", \"county_name\": \"Los Angeles\", \"county_fips\": 6037, \"region_name\": \"Southern California\", \"region_code\": 14, \"pop_trans_acc\": 649036, \"pop2010\": 1325671, \"p_trans_acc\": 0.489590555, \"LL_95CI\": 0.488739585, \"UL_95CI\": 0.490441524, \"se\": 0.000434168, \"rse\": 0.088679852}, {\"year\": 2012, \"race_eth_code\": 2, \"race_eth_name\": \"Asian\", \"geotype\": \"CO\", \"geotypevalue\": 6059, \"geoname\": \"Orange\", \"county_name\": \"Orange\", \"county_fips\": 6059, \"region_name\": \"Southern California\", \"region_code\": 14, \"pop_trans_acc\": 155674, \"pop2010\": 532477, \"p_trans_acc\": 0.292358168, \"LL_95CI\": 0.291136452, \"UL_95CI\": 0.293579883, \"se\": 0.000623324, \"rse\": 0.213205649}, {\"year\": 2012, \"race_eth_code\": 2, \"race_eth_name\": \"Asian\", \"geotype\": \"CO\", \"geotypevalue\": 6065, \"geoname\": \"Riverside\", \"county_name\": \"Riverside\", \"county_fips\": 6065, \"region_name\": \"Southern California\", \"region_code\": 14, \"pop_trans_acc\": 6690, \"pop2010\": 125921, \"p_trans_acc\": 0.053128549, \"LL_95CI\": 0.051889705, \"UL_95CI\": 0.054367392, \"se\": 0.000632063, \"rse\": 1.189686278}, {\"year\": 2012, \"race_eth_code\": 2, \"race_eth_name\": \"Asian\", \"geotype\": \"CO\", \"geotypevalue\": 6071, \"geoname\": \"San Bernardino\", \"county_name\": \"San Bernardino\", \"county_fips\": 6071, \"region_name\": \"Southern California\", \"region_code\": 14, \"pop_trans_acc\": 4085, \"pop2010\": 123978, \"p_trans_acc\": 0.032949394, \"LL_95CI\": 0.031955747, \"UL_95CI\": 0.033943041, \"se\": 0.000506963, \"rse\": 1.538610069}, {\"year\": 2012, \"race_eth_code\": 2, \"race_eth_name\": \"Asian\", \"geotype\": \"CO\", \"geotypevalue\": 6111, \"geoname\": \"Ventura\", \"county_name\": \"Ventura\", \"county_fips\": 6111, \"region_name\": \"Southern California\", \"region_code\": 14, \"pop_trans_acc\": 0, \"pop2010\": 54099, \"p_trans_acc\": 0.0, \"LL_95CI\": 0.0, \"UL_95CI\": 0.0, \"se\": 0.0, \"rse\": 0.0}, {\"year\": 2012, \"race_eth_code\": 3, \"race_eth_name\": \"AfricanAm\", \"geotype\": \"CO\", \"geotypevalue\": 6025, \"geoname\": \"Imperial\", \"county_name\": \"Imperial\", \"county_fips\": 6025, \"region_name\": \"Southern California\", \"region_code\": 14, \"pop_trans_acc\": 0, \"pop2010\": 5114, \"p_trans_acc\": 0.0, \"LL_95CI\": 0.0, \"UL_95CI\": 0.0, \"se\": 0.0, \"rse\": 0.0}, {\"year\": 2012, \"race_eth_code\": 3, \"race_eth_name\": \"AfricanAm\", \"geotype\": \"CO\", \"geotypevalue\": 6037, \"geoname\": \"Los Angeles\", \"county_name\": \"Los Angeles\", \"county_fips\": 6037, \"region_name\": \"Southern California\", \"region_code\": 14, \"pop_trans_acc\": 529550, \"pop2010\": 815086, \"p_trans_acc\": 0.649686045, \"LL_95CI\": 0.648650343, \"UL_95CI\": 0.650721747, \"se\": 0.000528419, \"rse\": 0.150841671}, {\"year\": 2012, \"race_eth_code\": 3, \"race_eth_name\": \"AfricanAm\", \"geotype\": \"CO\", \"geotypevalue\": 6059, \"geoname\": \"Orange\", \"county_name\": \"Orange\", \"county_fips\": 6059, \"region_name\": \"Southern California\", \"region_code\": 14, \"pop_trans_acc\": 14512, \"pop2010\": 44000, \"p_trans_acc\": 0.329818182, \"LL_95CI\": 0.32542516, \"UL_95CI\": 0.334211204, \"se\": 0.002241338, \"rse\": 0.679567633}, {\"year\": 2012, \"race_eth_code\": 3, \"race_eth_name\": \"AfricanAm\", \"geotype\": \"CO\", \"geotypevalue\": 6065, \"geoname\": \"Riverside\", \"county_name\": \"Riverside\", \"county_fips\": 6065, \"region_name\": \"Southern California\", \"region_code\": 14, \"pop_trans_acc\": 10603, \"pop2010\": 130823, \"p_trans_acc\": 0.081048439, \"LL_95CI\": 0.07956956, \"UL_95CI\": 0.082527319, \"se\": 0.00075453, \"rse\": 0.930961946}, {\"year\": 2012, \"race_eth_code\": 3, \"race_eth_name\": \"AfricanAm\", \"geotype\": \"CO\", \"geotypevalue\": 6071, \"geoname\": \"San Bernardino\", \"county_name\": \"San Bernardino\", \"county_fips\": 6071, \"region_name\": \"Southern California\", \"region_code\": 14, \"pop_trans_acc\": 5482, \"pop2010\": 170700, \"p_trans_acc\": 0.032114821, \"LL_95CI\": 0.031278441, \"UL_95CI\": 0.032951202, \"se\": 0.000426725, \"rse\": 1.328747328}, {\"year\": 2012, \"race_eth_code\": 3, \"race_eth_name\": \"AfricanAm\", \"geotype\": \"CO\", \"geotypevalue\": 6111, \"geoname\": \"Ventura\", \"county_name\": \"Ventura\", \"county_fips\": 6111, \"region_name\": \"Southern California\", \"region_code\": 14, \"pop_trans_acc\": 0, \"pop2010\": 13082, \"p_trans_acc\": 0.0, \"LL_95CI\": 0.0, \"UL_95CI\": 0.0, \"se\": 0.0, \"rse\": 0.0}, {\"year\": 2012, \"race_eth_code\": 4, \"race_eth_name\": \"Latino\", \"geotype\": \"CO\", \"geotypevalue\": 6025, \"geoname\": \"Imperial\", \"county_name\": \"Imperial\", \"county_fips\": 6025, \"region_name\": \"Southern California\", \"region_code\": 14, \"pop_trans_acc\": 0, \"pop2010\": 140271, \"p_trans_acc\": 0.0, \"LL_95CI\": 0.0, \"UL_95CI\": 0.0, \"se\": 0.0, \"rse\": 0.0}, {\"year\": 2012, \"race_eth_code\": 4, \"race_eth_name\": \"Latino\", \"geotype\": \"CO\", \"geotypevalue\": 6037, \"geoname\": \"Los Angeles\", \"county_name\": \"Los Angeles\", \"county_fips\": 6037, \"region_name\": \"Southern California\", \"region_code\": 14, \"pop_trans_acc\": 2715152, \"pop2010\": 4687889, \"p_trans_acc\": 0.579184362, \"LL_95CI\": 0.57873745, \"UL_95CI\": 0.579631274, \"se\": 0.000228016, \"rse\": 0.054184344}, {\"year\": 2012, \"race_eth_code\": 4, \"race_eth_name\": \"Latino\", \"geotype\": \"CO\", \"geotypevalue\": 6059, \"geoname\": \"Orange\", \"county_name\": \"Orange\", \"county_fips\": 6059, \"region_name\": \"Southern California\", \"region_code\": 14, \"pop_trans_acc\": 475619, \"pop2010\": 1012973, \"p_trans_acc\": 0.469527816, \"LL_95CI\": 0.468555921, \"UL_95CI\": 0.47049971, \"se\": 0.000495865, \"rse\": 0.10560919}, {\"year\": 2012, \"race_eth_code\": 4, \"race_eth_name\": \"Latino\", \"geotype\": \"CO\", \"geotypevalue\": 6065, \"geoname\": \"Riverside\", \"county_name\": \"Riverside\", \"county_fips\": 6065, \"region_name\": \"Southern California\", \"region_code\": 14, \"pop_trans_acc\": 54321, \"pop2010\": 995257, \"p_trans_acc\": 0.054579872, \"LL_95CI\": 0.054133582, \"UL_95CI\": 0.055026162, \"se\": 0.000227699, \"rse\": 0.417184865}, {\"year\": 2012, \"race_eth_code\": 4, \"race_eth_name\": \"Latino\", \"geotype\": \"CO\", \"geotypevalue\": 6071, \"geoname\": \"San Bernardino\", \"county_name\": \"San Bernardino\", \"county_fips\": 6071, \"region_name\": \"Southern California\", \"region_code\": 14, \"pop_trans_acc\": 78939, \"pop2010\": 1001145, \"p_trans_acc\": 0.078848718, \"LL_95CI\": 0.078320795, \"UL_95CI\": 0.079376641, \"se\": 0.000269348, \"rse\": 0.341601422}, {\"year\": 2012, \"race_eth_code\": 4, \"race_eth_name\": \"Latino\", \"geotype\": \"CO\", \"geotypevalue\": 6111, \"geoname\": \"Ventura\", \"county_name\": \"Ventura\", \"county_fips\": 6111, \"region_name\": \"Southern California\", \"region_code\": 14, \"pop_trans_acc\": 0, \"pop2010\": 331567, \"p_trans_acc\": 0.0, \"LL_95CI\": 0.0, \"UL_95CI\": 0.0, \"se\": 0.0, \"rse\": 0.0}, {\"year\": 2012, \"race_eth_code\": 5, \"race_eth_name\": \"NHOPI\", \"geotype\": \"CO\", \"geotypevalue\": 6025, \"geoname\": \"Imperial\", \"county_name\": \"Imperial\", \"county_fips\": 6025, \"region_name\": \"Southern California\", \"region_code\": 14, \"pop_trans_acc\": 0, \"pop2010\": 87, \"p_trans_acc\": 0.0, \"LL_95CI\": 0.0, \"UL_95CI\": 0.0, \"se\": 0.0, \"rse\": 0.0}, {\"year\": 2012, \"race_eth_code\": 5, \"race_eth_name\": \"NHOPI\", \"geotype\": \"CO\", \"geotypevalue\": 6037, \"geoname\": \"Los Angeles\", \"county_name\": \"Los Angeles\", \"county_fips\": 6037, \"region_name\": \"Southern California\", \"region_code\": 14, \"pop_trans_acc\": 11035, \"pop2010\": 22464, \"p_trans_acc\": 0.491230413, \"LL_95CI\": 0.484692853, \"UL_95CI\": 0.497767974, \"se\": 0.00333549, \"rse\": 0.679007236}, {\"year\": 2012, \"race_eth_code\": 5, \"race_eth_name\": \"NHOPI\", \"geotype\": \"CO\", \"geotypevalue\": 6059, \"geoname\": \"Orange\", \"county_name\": \"Orange\", \"county_fips\": 6059, \"region_name\": \"Southern California\", \"region_code\": 14, \"pop_trans_acc\": 3217, \"pop2010\": 8357, \"p_trans_acc\": 0.384946751, \"LL_95CI\": 0.374514271, \"UL_95CI\": 0.395379231, \"se\": 0.005322694, \"rse\": 1.382709122}, {\"year\": 2012, \"race_eth_code\": 5, \"race_eth_name\": \"NHOPI\", \"geotype\": \"CO\", \"geotypevalue\": 6065, \"geoname\": \"Riverside\", \"county_name\": \"Riverside\", \"county_fips\": 6065, \"region_name\": \"Southern California\", \"region_code\": 14, \"pop_trans_acc\": 331, \"pop2010\": 5849, \"p_trans_acc\": 0.05659087, \"LL_95CI\": 0.050669278, \"UL_95CI\": 0.062512462, \"se\": 0.00302122, \"rse\": 5.338706435}, {\"year\": 2012, \"race_eth_code\": 5, \"race_eth_name\": \"NHOPI\", \"geotype\": \"CO\", \"geotypevalue\": 6071, \"geoname\": \"San Bernardino\", \"county_name\": \"San Bernardino\", \"county_fips\": 6071, \"region_name\": \"Southern California\", \"region_code\": 14, \"pop_trans_acc\": 281, \"pop2010\": 5845, \"p_trans_acc\": 0.048075278, \"LL_95CI\": 0.042590917, \"UL_95CI\": 0.053559639, \"se\": 0.002798143, \"rse\": 5.820337157}, {\"year\": 2012, \"race_eth_code\": 5, \"race_eth_name\": \"NHOPI\", \"geotype\": \"CO\", \"geotypevalue\": 6111, \"geoname\": \"Ventura\", \"county_name\": \"Ventura\", \"county_fips\": 6111, \"region_name\": \"Southern California\", \"region_code\": 14, \"pop_trans_acc\": 0, \"pop2010\": 1353, \"p_trans_acc\": 0.0, \"LL_95CI\": 0.0, \"UL_95CI\": 0.0, \"se\": 0.0, \"rse\": 0.0}, {\"year\": 2012, \"race_eth_code\": 6, \"race_eth_name\": \"White\", \"geotype\": \"CO\", \"geotypevalue\": 6025, \"geoname\": \"Imperial\", \"county_name\": \"Imperial\", \"county_fips\": 6025, \"region_name\": \"Southern California\", \"region_code\": 14, \"pop_trans_acc\": 0, \"pop2010\": 23927, \"p_trans_acc\": 0.0, \"LL_95CI\": 0.0, \"UL_95CI\": 0.0, \"se\": 0.0, \"rse\": 0.0}, {\"year\": 2012, \"race_eth_code\": 6, \"race_eth_name\": \"White\", \"geotype\": \"CO\", \"geotypevalue\": 6037, \"geoname\": \"Los Angeles\", \"county_name\": \"Los Angeles\", \"county_fips\": 6037, \"region_name\": \"Southern California\", \"region_code\": 14, \"pop_trans_acc\": 1193973, \"pop2010\": 2728321, \"p_trans_acc\": 0.437621893, \"LL_95CI\": 0.437033223, \"UL_95CI\": 0.438210563, \"se\": 0.000300342, \"rse\": 0.068630466}, {\"year\": 2012, \"race_eth_code\": 6, \"race_eth_name\": \"White\", \"geotype\": \"CO\", \"geotypevalue\": 6059, \"geoname\": \"Orange\", \"county_name\": \"Orange\", \"county_fips\": 6059, \"region_name\": \"Southern California\", \"region_code\": 14, \"pop_trans_acc\": 258804, \"pop2010\": 1328499, \"p_trans_acc\": 0.19480933, \"LL_95CI\": 0.194135842, \"UL_95CI\": 0.195482818, \"se\": 0.000343616, \"rse\": 0.176385904}, {\"year\": 2012, \"race_eth_code\": 6, \"race_eth_name\": \"White\", \"geotype\": \"CO\", \"geotypevalue\": 6065, \"geoname\": \"Riverside\", \"county_name\": \"Riverside\", \"county_fips\": 6065, \"region_name\": \"Southern California\", \"region_code\": 14, \"pop_trans_acc\": 25533, \"pop2010\": 869068, \"p_trans_acc\": 0.029379749, \"LL_95CI\": 0.029024709, \"UL_95CI\": 0.02973479, \"se\": 0.000181143, \"rse\": 0.616557736}, {\"year\": 2012, \"race_eth_code\": 6, \"race_eth_name\": \"White\", \"geotype\": \"CO\", \"geotypevalue\": 6071, \"geoname\": \"San Bernardino\", \"county_name\": \"San Bernardino\", \"county_fips\": 6071, \"region_name\": \"Southern California\", \"region_code\": 14, \"pop_trans_acc\": 12670, \"pop2010\": 677598, \"p_trans_acc\": 0.018698402, \"LL_95CI\": 0.01837587, \"UL_95CI\": 0.019020935, \"se\": 0.000164557, \"rse\": 0.880061344}, {\"year\": 2012, \"race_eth_code\": 6, \"race_eth_name\": \"White\", \"geotype\": \"CO\", \"geotypevalue\": 6111, \"geoname\": \"Ventura\", \"county_name\": \"Ventura\", \"county_fips\": 6111, \"region_name\": \"Southern California\", \"region_code\": 14, \"pop_trans_acc\": 0, \"pop2010\": 400868, \"p_trans_acc\": 0.0, \"LL_95CI\": 0.0, \"UL_95CI\": 0.0, \"se\": 0.0, \"rse\": 0.0}, {\"year\": 2012, \"race_eth_code\": 7, \"race_eth_name\": \"Multiple\", \"geotype\": \"CO\", \"geotypevalue\": 6025, \"geoname\": \"Imperial\", \"county_name\": \"Imperial\", \"county_fips\": 6025, \"region_name\": \"Southern California\", \"region_code\": 14, \"pop_trans_acc\": 0, \"pop2010\": 1097, \"p_trans_acc\": 0.0, \"LL_95CI\": 0.0, \"UL_95CI\": 0.0, \"se\": 0.0, \"rse\": 0.0}, {\"year\": 2012, \"race_eth_code\": 7, \"race_eth_name\": \"Multiple\", \"geotype\": \"CO\", \"geotypevalue\": 6037, \"geoname\": \"Los Angeles\", \"county_name\": \"Los Angeles\", \"county_fips\": 6037, \"region_name\": \"Southern California\", \"region_code\": 14, \"pop_trans_acc\": 96952, \"pop2010\": 194921, \"p_trans_acc\": 0.497391251, \"LL_95CI\": 0.495171568, \"UL_95CI\": 0.499610933, \"se\": 0.001132491, \"rse\": 0.227686162}, {\"year\": 2012, \"race_eth_code\": 7, \"race_eth_name\": \"Multiple\", \"geotype\": \"CO\", \"geotypevalue\": 6059, \"geoname\": \"Orange\", \"county_name\": \"Orange\", \"county_fips\": 6059, \"region_name\": \"Southern California\", \"region_code\": 14, \"pop_trans_acc\": 16071, \"pop2010\": 72117, \"p_trans_acc\": 0.222846208, \"LL_95CI\": 0.219808869, \"UL_95CI\": 0.225883548, \"se\": 0.001549663, \"rse\": 0.695395754}, {\"year\": 2012, \"race_eth_code\": 7, \"race_eth_name\": \"Multiple\", \"geotype\": \"CO\", \"geotypevalue\": 6065, \"geoname\": \"Riverside\", \"county_name\": \"Riverside\", \"county_fips\": 6065, \"region_name\": \"Southern California\", \"region_code\": 14, \"pop_trans_acc\": 2450, \"pop2010\": 48110, \"p_trans_acc\": 0.050924964, \"LL_95CI\": 0.048960455, \"UL_95CI\": 0.052889473, \"se\": 0.001002301, \"rse\": 1.968190961}, {\"year\": 2012, \"race_eth_code\": 7, \"race_eth_name\": \"Multiple\", \"geotype\": \"CO\", \"geotypevalue\": 6071, \"geoname\": \"San Bernardino\", \"county_name\": \"San Bernardino\", \"county_fips\": 6071, \"region_name\": \"Southern California\", \"region_code\": 14, \"pop_trans_acc\": 948, \"pop2010\": 43366, \"p_trans_acc\": 0.021860444, \"LL_95CI\": 0.020484149, \"UL_95CI\": 0.023236738, \"se\": 0.000702191, \"rse\": 3.212153142}, {\"year\": 2012, \"race_eth_code\": 7, \"race_eth_name\": \"Multiple\", \"geotype\": \"CO\", \"geotypevalue\": 6111, \"geoname\": \"Ventura\", \"county_name\": \"Ventura\", \"county_fips\": 6111, \"region_name\": \"Southern California\", \"region_code\": 14, \"pop_trans_acc\": 0, \"pop2010\": 18589, \"p_trans_acc\": 0.0, \"LL_95CI\": 0.0, \"UL_95CI\": 0.0, \"se\": 0.0, \"rse\": 0.0}, {\"year\": 2012, \"race_eth_code\": 8, \"race_eth_name\": \"Other\", \"geotype\": \"CO\", \"geotypevalue\": 6025, \"geoname\": \"Imperial\", \"county_name\": \"Imperial\", \"county_fips\": 6025, \"region_name\": \"Southern California\", \"region_code\": 14, \"pop_trans_acc\": 0, \"pop2010\": 189, \"p_trans_acc\": 0.0, \"LL_95CI\": 0.0, \"UL_95CI\": 0.0, \"se\": 0.0, \"rse\": 0.0}, {\"year\": 2012, \"race_eth_code\": 8, \"race_eth_name\": \"Other\", \"geotype\": \"CO\", \"geotypevalue\": 6037, \"geoname\": \"Los Angeles\", \"county_name\": \"Los Angeles\", \"county_fips\": 6037, \"region_name\": \"Southern California\", \"region_code\": 14, \"pop_trans_acc\": 15058, \"pop2010\": 25367, \"p_trans_acc\": 0.593605866, \"LL_95CI\": 0.587561589, \"UL_95CI\": 0.599650142, \"se\": 0.003083815, \"rse\": 0.758823587}, {\"year\": 2012, \"race_eth_code\": 8, \"race_eth_name\": \"Other\", \"geotype\": \"CO\", \"geotypevalue\": 6059, \"geoname\": \"Orange\", \"county_name\": \"Orange\", \"county_fips\": 6059, \"region_name\": \"Southern California\", \"region_code\": 14, \"pop_trans_acc\": 1561, \"pop2010\": 5593, \"p_trans_acc\": 0.279098874, \"LL_95CI\": 0.267343118, \"UL_95CI\": 0.290854629, \"se\": 0.005997835, \"rse\": 2.148999926}, {\"year\": 2012, \"race_eth_code\": 8, \"race_eth_name\": \"Other\", \"geotype\": \"CO\", \"geotypevalue\": 6065, \"geoname\": \"Riverside\", \"county_name\": \"Riverside\", \"county_fips\": 6065, \"region_name\": \"Southern California\", \"region_code\": 14, \"pop_trans_acc\": 179, \"pop2010\": 3682, \"p_trans_acc\": 0.048614883, \"LL_95CI\": 0.041668208, \"UL_95CI\": 0.055561558, \"se\": 0.003544222, \"rse\": 7.2904051}, {\"year\": 2012, \"race_eth_code\": 8, \"race_eth_name\": \"Other\", \"geotype\": \"CO\", \"geotypevalue\": 6071, \"geoname\": \"San Bernardino\", \"county_name\": \"San Bernardino\", \"county_fips\": 6071, \"region_name\": \"Southern California\", \"region_code\": 14, \"pop_trans_acc\": 189, \"pop2010\": 4055, \"p_trans_acc\": 0.046609125, \"LL_95CI\": 0.040120814, \"UL_95CI\": 0.053097435, \"se\": 0.003310362, \"rse\": 7.102391264}, {\"year\": 2012, \"race_eth_code\": 8, \"race_eth_name\": \"Other\", \"geotype\": \"CO\", \"geotypevalue\": 6111, \"geoname\": \"Ventura\", \"county_name\": \"Ventura\", \"county_fips\": 6111, \"region_name\": \"Southern California\", \"region_code\": 14, \"pop_trans_acc\": 0, \"pop2010\": 1371, \"p_trans_acc\": 0.0, \"LL_95CI\": 0.0, \"UL_95CI\": 0.0, \"se\": 0.0, \"rse\": 0.0}, {\"year\": 2012, \"race_eth_code\": 9, \"race_eth_name\": \"Total\", \"geotype\": \"CO\", \"geotypevalue\": 6025, \"geoname\": \"Imperial\", \"county_name\": \"Imperial\", \"county_fips\": 6025, \"region_name\": \"Southern California\", \"region_code\": 14, \"pop_trans_acc\": 0, \"pop2010\": 174528, \"p_trans_acc\": 0.0, \"LL_95CI\": 0.0, \"UL_95CI\": 0.0, \"se\": 0.0, \"rse\": 0.0}, {\"year\": 2012, \"race_eth_code\": 9, \"race_eth_name\": \"Total\", \"geotype\": \"CO\", \"geotypevalue\": 6037, \"geoname\": \"Los Angeles\", \"county_name\": \"Los Angeles\", \"county_fips\": 6037, \"region_name\": \"Southern California\", \"region_code\": 14, \"pop_trans_acc\": 5220011, \"pop2010\": 9818605, \"p_trans_acc\": 0.531644872, \"LL_95CI\": 0.531332746, \"UL_95CI\": 0.531956998, \"se\": 0.000159248, \"rse\": 0.034001516}, {\"year\": 2012, \"race_eth_code\": 9, \"race_eth_name\": \"Total\", \"geotype\": \"CO\", \"geotypevalue\": 6059, \"geoname\": \"Orange\", \"county_name\": \"Orange\", \"county_fips\": 6059, \"region_name\": \"Southern California\", \"region_code\": 14, \"pop_trans_acc\": 927355, \"pop2010\": 3010232, \"p_trans_acc\": 0.308067617, \"LL_95CI\": 0.307546049, \"UL_95CI\": 0.308589185, \"se\": 0.000266106, \"rse\": 0.086379129}, {\"year\": 2012, \"race_eth_code\": 9, \"race_eth_name\": \"Total\", \"geotype\": \"CO\", \"geotypevalue\": 6065, \"geoname\": \"Riverside\", \"county_name\": \"Riverside\", \"county_fips\": 6065, \"region_name\": \"Southern California\", \"region_code\": 14, \"pop_trans_acc\": 100474, \"pop2010\": 2189641, \"p_trans_acc\": 0.045886061, \"LL_95CI\": 0.045608914, \"UL_95CI\": 0.046163208, \"se\": 0.000141402, \"rse\": 0.308157878}, {\"year\": 2012, \"race_eth_code\": 9, \"race_eth_name\": \"Total\", \"geotype\": \"CO\", \"geotypevalue\": 6071, \"geoname\": \"San Bernardino\", \"county_name\": \"San Bernardino\", \"county_fips\": 6071, \"region_name\": \"Southern California\", \"region_code\": 14, \"pop_trans_acc\": 102820, \"pop2010\": 2035210, \"p_trans_acc\": 0.050520585, \"LL_95CI\": 0.050219681, \"UL_95CI\": 0.050821489, \"se\": 0.000153523, \"rse\": 0.303881301}, {\"year\": 2012, \"race_eth_code\": 9, \"race_eth_name\": \"Total\", \"geotype\": \"CO\", \"geotypevalue\": 6111, \"geoname\": \"Ventura\", \"county_name\": \"Ventura\", \"county_fips\": 6111, \"region_name\": \"Southern California\", \"region_code\": 14, \"pop_trans_acc\": 0, \"pop2010\": 823318, \"p_trans_acc\": 0.0, \"LL_95CI\": 0.0, \"UL_95CI\": 0.0, \"se\": 0.0, \"rse\": 0.0}]}}, {\"mode\": \"vega-lite\"});\n",
       "</script>"
      ],
      "text/plain": [
       "alt.FacetChart(...)"
      ]
     },
     "execution_count": 30,
     "metadata": {},
     "output_type": "execute_result"
    }
   ],
   "source": [
    "alt.Chart(data[(data.geotype == 'CO')]).mark_point().encode(\n",
    "    x = alt.X('pop2010', scale = alt.Scale(zero = False, type = 'pow', exponent = 0.25), title = '2010 County Population'),\n",
    "    y = alt.Y('mean(p_trans_acc)', title = 'Mean % Public Transportation Access')\n",
    ").properties(width = 200, height = 250).facet(column = 'region_name')"
   ]
  },
  {
   "attachments": {},
   "cell_type": "markdown",
   "metadata": {},
   "source": [
    "The scatter plots shows how access to public transportation varies with the population in each **county** in the region (the points represent each county). Counties with larger populations, specifically Southern California, have higher access to public transportation, but this relationship is less apparent in the other regions. "
   ]
  },
  {
   "attachments": {},
   "cell_type": "markdown",
   "metadata": {},
   "source": [
    "---\n",
    "## 3. Planned work"
   ]
  },
  {
   "attachments": {},
   "cell_type": "markdown",
   "metadata": {},
   "source": [
    "**Further Exploration Required**:\n",
    "\n",
    "(1) How does access to public transportation differ across race/ethnicity groups?\n",
    "* Merge the regions together and sort them by race/ethnicity groups. Examine if the differences between groups exist at both the region level ('plot a' in Part 2) and statewide (California) level. Determine a threshold value where the difference between race/ethnicity groups is considered \"significant.\" \n",
    "\n",
    "(2) How does access to public transportation vary by region and the populations of the counties within each region?\n",
    "* Sort counties in each region by their population. Determine if a linear or multiple regression model can fit mean access to public transport by population. Do outside research on certain counties, specifically those with large populations, to determine why they have high, or low rates for access to public transportation.\n",
    "\n",
    "\n"
   ]
  }
 ],
 "metadata": {
  "kernelspec": {
   "display_name": "Python 3 (ipykernel)",
   "language": "python",
   "name": "python3"
  },
  "language_info": {
   "codemirror_mode": {
    "name": "ipython",
    "version": 3
   },
   "file_extension": ".py",
   "mimetype": "text/x-python",
   "name": "python",
   "nbconvert_exporter": "python",
   "pygments_lexer": "ipython3",
   "version": "3.8.15"
  }
 },
 "nbformat": 4,
 "nbformat_minor": 4
}
