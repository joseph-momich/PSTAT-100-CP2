{
 "cells": [
  {
   "cell_type": "markdown",
   "metadata": {},
   "source": [
    "# PSTAT 100 Project report\n",
    "\n",
    "This document provides a template that you can elect to fill in or modify for your project report. The sectioning (header structure) is not strict, and you are encouraged to adjust it to suit your project. **If you choose to use this template, please remove all guiding text, including this cell**.\n",
    "\n",
    "#### General guidelines\n",
    "\n",
    "The objective of your final report is to provide a thorough overview of your project. It need not be long; quality and clarity is preferred over quantity. Aim for 3-5 pages; if you feel that further material needs to be included, you can add an appendix with supplementary information, tables, and plots.\n",
    "\n",
    "#### Contents\n",
    "\n",
    "The report should include the following elements:\n",
    "\n",
    "* Abstract\n",
    "    + One-paragraph summary of the report contents.\n",
    "* Background\n",
    "    + Adapt your interim report.\n",
    "* Aims\n",
    "    + State the specific questions and approaches you took up.\n",
    "* Data description\n",
    "    + Adapt your interim report.\n",
    "    + Possibly include select results of your exploratory analysis.\n",
    "* Methods \n",
    "    + Description of the methods used in your analysis.\n",
    "* Results\n",
    "    + Present the figures and tables summarizing your analysis.\n",
    "* Discussion\n",
    "    + Highlight your main findings and takeaways.\n",
    "    + Offer further commentary: caveats, further steps, etc.\n",
    "\n",
    "These need not be set apart by headers; you are free to determine how to organize your report. For an example, please refer to the adaptation of HW3 into a report provided during week 8.\n",
    "\n",
    "#### Format and appearance \n",
    "\n",
    "* No codes should appear in your report.\n",
    "* All figures and tables should have captions.\n",
    "* Figures should be appropriately sized and labeled.\n",
    "* No text from the template should appear in your report other than headers.\n",
    "* The total length should not exceed 8 pages.\n",
    "\n",
    "### Evaluation\n",
    "\n",
    "Your report will be evaluated based on:\n",
    "* (format) adherence to formatting and appearance guidelines;\n",
    "* (clarity) clarity and thoughtfulness in written voice;\n",
    "* (accuracy) apparent accuracy of quantitative results and technical information;\n",
    "* (applied a PSTAT100 technique) successful use of one or more techniques in the course.\n",
    "\n",
    "Notice that no credit is tied to the nature of the results; you can earn credit equally well with an analysis that says little as with one that says a lot. **Negative, neutral, or ambiguous results -- analyses that do not produce any particular insight -- are more than acceptable.** If your analyses turn in one of these directions, present them as clearly as possible, and consider speculating in your discussion section about the absence of signficicant/interpretable findings.\n",
    "\n",
    "---"
   ]
  },
  {
   "cell_type": "markdown",
   "metadata": {},
   "source": [
    "# Project title\n",
    "\n",
    "Author 1, Author 2, Author 3, and Author 4.\n",
    "\n",
    "#### Author contributions\n",
    "\n",
    "Author 1 contributed ...\n",
    "\n",
    "Author 2 contributed ...\n",
    "\n",
    "#### Abstract\n",
    "\n",
    "Prepare an abstract *after* you've written the entire report. The abstract should be 4-6 sentences summarizing the report contents. Typically:\n",
    "* the first 1-2 sentences introduce and motivate the topic;\n",
    "* the next 1-2 sentences state the aims;\n",
    "* the next 1-2 sentences state the findings."
   ]
  },
  {
   "cell_type": "markdown",
   "metadata": {},
   "source": [
    "---\n",
    "## Introduction\n",
    "\n",
    "The goal of this section is to introduce your project topic and project aims (the questions you posed in the planning report).\n",
    "\n",
    "### Background\n",
    "\n",
    "Provide enough background to position the reader to understand your project aims and their relevance. Most likely, you can adapt your background section from the plan report for this section. If you were satisfied with what you wrote previously and no revisions were suggested, you can simply copy that material. \n",
    "\n",
    "You may want to consider making revisions anyway now that you've carried out your data analysis -- perhaps some pieces of background information aren't as relevant to understanding your work, or some pieces need to be elaborated in further detail.\n",
    "\n",
    "### Aims\n",
    "\n",
    "Indicate your project aims, approaches, and findings in a paragraph or two. This should be non-technical, but detailed enough to enable the reader to imagine the contents of the report that follows. Most likely, you can adapt your 'planned work' section from the planning report, stating each aim, appraoch, and the primary finding in turn. If your analysis produced null or negative results, you can say as much here."
   ]
  },
  {
   "cell_type": "markdown",
   "metadata": {},
   "source": [
    "---\n",
    "## Materials and methods\n",
    "\n",
    "The goal of this section is to describe your dataset(s) and sketch out your analysis.\n",
    "\n",
    "### Datasets\n",
    "\n",
    "For this section, adapt the data description from your planning report. All the same information should appear, but in contrast to the planning report, it should have narrative structure (read smoothly) and **not** contain sub-headers (basic information, data semantics and structure).\n",
    "\n",
    "Most likely, you will want to include two tables in this section: the variable descriptions you prepared for the planning report; and the example rows you showed in your planning report.\n",
    "\n",
    "### Methods\n",
    "\n",
    "Write a single paragraph summarizing your approach to analyzing the data. Assume your audience is familiar with the methods you've used (so you don't need to explain them from first principles).\n",
    "\n",
    "The goal of providing this summary is to facilitate smooth reading of the results section -- if your approach is clearly explained here, you can simply present the results one after the next in the next section without explaining how they were obtained. So, explain just enough that your reader will be able to follow your results.\n",
    "\n",
    "If your analysis was more exploratory in nature or consisted primarily of visualizations, you can instead describe what relationships and features you were exploring or visualizing and the techniques or plot types that you used."
   ]
  },
  {
   "cell_type": "markdown",
   "metadata": {},
   "source": [
    "---\n",
    "## Results\n",
    "\n",
    "This section should show your results. You can include sub-header structure as suits your aims (or not).\n",
    "\n",
    "The easiest way to compose this section is to structure it around your figures and tables. Prepare and input your figures and tables in the order you'd like them to appear, and then draft the text. Move through the figures and tables in sequence, and for each one:\n",
    "* introduce the figure/table;\n",
    "* describe what it shows; \n",
    "* and then describe what you see (its significance). \n",
    "Keep the latter brief; you'll have an opportunity to offer more nuanced/extended commentary in the discussion section."
   ]
  },
  {
   "cell_type": "markdown",
   "metadata": {},
   "source": [
    "---\n",
    "## Discussion\n",
    "\n",
    "This section should conclude your report in 1-2 paragraphs that reiterate the findings and offer any commentary. 'Commentary' could include:\n",
    "* speculation about the cause of certain findings;\n",
    "* caveats about interpretation;\n",
    "* refining of questions or aims;\n",
    "* further topics you would have liked to explore."
   ]
  }
 ],
 "metadata": {
  "kernelspec": {
   "display_name": "Python 3",
   "language": "python",
   "name": "python3"
  },
  "language_info": {
   "codemirror_mode": {
    "name": "ipython",
    "version": 3
   },
   "file_extension": ".py",
   "mimetype": "text/x-python",
   "name": "python",
   "nbconvert_exporter": "python",
   "pygments_lexer": "ipython3",
   "version": "3.8.5"
  }
 },
 "nbformat": 4,
 "nbformat_minor": 4
}
